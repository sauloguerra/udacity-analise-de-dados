{
 "cells": [
  {
   "cell_type": "markdown",
   "metadata": {},
   "source": [
    "# P2: Investigando uma Base de Dados\n",
    "\n",
    "## Dados Titanic\n",
    "\n",
    "### Objetivo\n",
    "\n",
    "O objetivo desse projeto é criar uma análise exploratória com a base de dados que contém uma amostra com informações dos sobrevivêntes do naufrágio do navio Titanic. Essa análise também tem por objetivo explorar aspectos básicos da linguagem python e seus principais pacotes para análise de dados.\n",
    "\n",
    "### Breve história\n",
    "\n",
    "> O RMS Titanic foi um navio de passageiros britânico operado pela White Star Line e construído pelos estaleiros da Harland and Wolff em Belfast. Foi a segunda embarcação da Classe Olympic de transatlânticos depois do RMS Olympic e seguido pelo HMHS Britannic. Projetado pelos engenheiros navais Alexander Carlisle e Thomas Andrews, sua construção começou em março de 1909 e ele foi lançado ao mar em maio de 1911. O Titanic foi pensado para ser o navio mais luxuoso e mais seguro de sua época, gerando lendas que era supostamente \"inafundável\". A embarcação partiu em sua viagem inaugural de Southampton para Nova Iorque em 10 de abril de 1912, no caminho passando em Cherbourg-Octeville na França e por Queenstown na Irlanda. Ele colidiu com um iceberg às 23h40min do dia 14 de abril e afundou na madrugada do dia seguinte com mais de 1 500 pessoas a bordo, sendo um dos maiores desastres marítimos em tempos de paz de toda a história. Seu naufrágio destacou vários pontos fracos de seu projeto, deficiências nos procedimentos de evacuação de emergência e falhas nas regulamentações marítimas da época. Comissões de inquérito foram instauradas nos Estados Unidos e no Reino Unido, levando a mudanças nas leis internacionais de navegação que permanecem em vigor mais de um século depois. [Wikipedia](https://pt.wikipedia.org/wiki/RMS_Titanic)\n",
    "\n",
    "A base contém dados demográficos e informações de 891 dos 2224 passageiros e tripulantes a bordo do Titanic. Você pode ver uma descrição deste conjunto de dados no [site do Kaggle] (https://www.kaggle.com/c/titanic/data), de onde os dados foram obtidos.\n",
    "\n",
    "### Questionamentos\n",
    "\n",
    "Considerando o contexto histórico e as informações contidas na base de dados disponível, podemos imaginar algumas perguntas interessantes sobre o que pode ter contribuído para que alguns passageiros sobrevivessem ou não\n",
    "\n",
    "* 1 - Existe alguma aparente relação entre o número de sobreviventes e a idade do passageiro? \n",
    "* 2 - Existe alguma aparente relação entre o número de sobreviventes e o gênero do passageiro? \n",
    "* 3 - Será que passageiros acompanhados de seus familiares apresentam taxa de sobrevivência diferente dos passageiros sozinhos?\n",
    "* 4 - A classe social do passageiro aparenta ter alguma influência na taxa de sobrevivência?\n",
    "\n",
    "### Variáveis de interesse para responder as perguntas \n",
    "\n",
    "Dentre todas as variáveis, segue abaixo as variáveis que podem auxiliar a responder as perguntas propostas (explicação original do Kaggle):\n",
    "\n",
    "- survival Survival (0 = No; 1 = Yes) \n",
    "- pclass Passenger Class (1 = 1st; 2 = 2nd; 3 = 3rd) \n",
    "- sex Sex \n",
    "- age Age \n",
    "- sibsp Number of Siblings/Spouses Aboard \n",
    "- parch Number of Parents/Children Aboard \n",
    "\n",
    "SPECIAL NOTES (explicação original do Kaggle): \n",
    "\n",
    "- Pclass is a proxy for socio-economic status (SES) 1st ~ Upper; 2nd ~ Middle; 3rd ~ Lower\n",
    "- Age is in Years; Fractional if Age less than One (1) If the Age is Estimated, it is in the form xx.5\n",
    "- With respect to the family relation variables (i.e. sibsp and parch) some relations were ignored. The following are the definitions used for sibsp and parch.\n",
    "    - Sibling: Brother, Sister, Stepbrother, or Stepsister of Passenger Aboard Titanic Spouse: Husband or Wife of Passenger Aboard Titanic (Mistresses and Fiances Ignored) Parent: Mother or Father of Passenger Aboard Titanic Child: Son, Daughter, Stepson, or Stepdaughter of Passenger Aboard Titanic\n",
    "    - Other family relatives excluded from this study include cousins, nephews/nieces, aunts/uncles, and in-laws. Some children travelled only with a nanny, therefore parch=0 for them. As well, some travelled with very close friends or neighbors in a village, however, the definitions do not support such relations.\n",
    "    "
   ]
  },
  {
   "cell_type": "markdown",
   "metadata": {},
   "source": [
    "### Análise exploratória\n",
    "\n",
    "Primeiramente carregaremos os pacotes necessários e os dados."
   ]
  },
  {
   "cell_type": "code",
   "execution_count": 56,
   "metadata": {
    "collapsed": false
   },
   "outputs": [],
   "source": [
    "import pandas as pd\n",
    "import numpy as np\n",
    "import matplotlib.pyplot as plt\n",
    "import seaborn as sns\n",
    "%matplotlib inline"
   ]
  },
  {
   "cell_type": "code",
   "execution_count": 57,
   "metadata": {
    "collapsed": true
   },
   "outputs": [],
   "source": [
    "titanic = pd.read_csv('titanic_data.csv') # leitura dos dados"
   ]
  },
  {
   "cell_type": "markdown",
   "metadata": {},
   "source": [
    "Daremos uma boa olhada nos dados para começarmos a nos familiarizar com o conteúdo. Para tanto olharemos as 5 primeiras e as 5 últimas linhas"
   ]
  },
  {
   "cell_type": "code",
   "execution_count": 58,
   "metadata": {
    "collapsed": false
   },
   "outputs": [
    {
     "data": {
      "text/html": [
       "<div>\n",
       "<table border=\"1\" class=\"dataframe\">\n",
       "  <thead>\n",
       "    <tr style=\"text-align: right;\">\n",
       "      <th></th>\n",
       "      <th>PassengerId</th>\n",
       "      <th>Survived</th>\n",
       "      <th>Pclass</th>\n",
       "      <th>Name</th>\n",
       "      <th>Sex</th>\n",
       "      <th>Age</th>\n",
       "      <th>SibSp</th>\n",
       "      <th>Parch</th>\n",
       "      <th>Ticket</th>\n",
       "      <th>Fare</th>\n",
       "      <th>Cabin</th>\n",
       "      <th>Embarked</th>\n",
       "    </tr>\n",
       "  </thead>\n",
       "  <tbody>\n",
       "    <tr>\n",
       "      <th>0</th>\n",
       "      <td>1</td>\n",
       "      <td>0</td>\n",
       "      <td>3</td>\n",
       "      <td>Braund, Mr. Owen Harris</td>\n",
       "      <td>male</td>\n",
       "      <td>22.0</td>\n",
       "      <td>1</td>\n",
       "      <td>0</td>\n",
       "      <td>A/5 21171</td>\n",
       "      <td>7.2500</td>\n",
       "      <td>NaN</td>\n",
       "      <td>S</td>\n",
       "    </tr>\n",
       "    <tr>\n",
       "      <th>1</th>\n",
       "      <td>2</td>\n",
       "      <td>1</td>\n",
       "      <td>1</td>\n",
       "      <td>Cumings, Mrs. John Bradley (Florence Briggs Th...</td>\n",
       "      <td>female</td>\n",
       "      <td>38.0</td>\n",
       "      <td>1</td>\n",
       "      <td>0</td>\n",
       "      <td>PC 17599</td>\n",
       "      <td>71.2833</td>\n",
       "      <td>C85</td>\n",
       "      <td>C</td>\n",
       "    </tr>\n",
       "    <tr>\n",
       "      <th>2</th>\n",
       "      <td>3</td>\n",
       "      <td>1</td>\n",
       "      <td>3</td>\n",
       "      <td>Heikkinen, Miss. Laina</td>\n",
       "      <td>female</td>\n",
       "      <td>26.0</td>\n",
       "      <td>0</td>\n",
       "      <td>0</td>\n",
       "      <td>STON/O2. 3101282</td>\n",
       "      <td>7.9250</td>\n",
       "      <td>NaN</td>\n",
       "      <td>S</td>\n",
       "    </tr>\n",
       "    <tr>\n",
       "      <th>3</th>\n",
       "      <td>4</td>\n",
       "      <td>1</td>\n",
       "      <td>1</td>\n",
       "      <td>Futrelle, Mrs. Jacques Heath (Lily May Peel)</td>\n",
       "      <td>female</td>\n",
       "      <td>35.0</td>\n",
       "      <td>1</td>\n",
       "      <td>0</td>\n",
       "      <td>113803</td>\n",
       "      <td>53.1000</td>\n",
       "      <td>C123</td>\n",
       "      <td>S</td>\n",
       "    </tr>\n",
       "    <tr>\n",
       "      <th>4</th>\n",
       "      <td>5</td>\n",
       "      <td>0</td>\n",
       "      <td>3</td>\n",
       "      <td>Allen, Mr. William Henry</td>\n",
       "      <td>male</td>\n",
       "      <td>35.0</td>\n",
       "      <td>0</td>\n",
       "      <td>0</td>\n",
       "      <td>373450</td>\n",
       "      <td>8.0500</td>\n",
       "      <td>NaN</td>\n",
       "      <td>S</td>\n",
       "    </tr>\n",
       "  </tbody>\n",
       "</table>\n",
       "</div>"
      ],
      "text/plain": [
       "   PassengerId  Survived  Pclass  \\\n",
       "0            1         0       3   \n",
       "1            2         1       1   \n",
       "2            3         1       3   \n",
       "3            4         1       1   \n",
       "4            5         0       3   \n",
       "\n",
       "                                                Name     Sex   Age  SibSp  \\\n",
       "0                            Braund, Mr. Owen Harris    male  22.0      1   \n",
       "1  Cumings, Mrs. John Bradley (Florence Briggs Th...  female  38.0      1   \n",
       "2                             Heikkinen, Miss. Laina  female  26.0      0   \n",
       "3       Futrelle, Mrs. Jacques Heath (Lily May Peel)  female  35.0      1   \n",
       "4                           Allen, Mr. William Henry    male  35.0      0   \n",
       "\n",
       "   Parch            Ticket     Fare Cabin Embarked  \n",
       "0      0         A/5 21171   7.2500   NaN        S  \n",
       "1      0          PC 17599  71.2833   C85        C  \n",
       "2      0  STON/O2. 3101282   7.9250   NaN        S  \n",
       "3      0            113803  53.1000  C123        S  \n",
       "4      0            373450   8.0500   NaN        S  "
      ]
     },
     "execution_count": 58,
     "metadata": {},
     "output_type": "execute_result"
    }
   ],
   "source": [
    "titanic.head()"
   ]
  },
  {
   "cell_type": "code",
   "execution_count": 59,
   "metadata": {
    "collapsed": false,
    "scrolled": true
   },
   "outputs": [
    {
     "data": {
      "text/html": [
       "<div>\n",
       "<table border=\"1\" class=\"dataframe\">\n",
       "  <thead>\n",
       "    <tr style=\"text-align: right;\">\n",
       "      <th></th>\n",
       "      <th>PassengerId</th>\n",
       "      <th>Survived</th>\n",
       "      <th>Pclass</th>\n",
       "      <th>Name</th>\n",
       "      <th>Sex</th>\n",
       "      <th>Age</th>\n",
       "      <th>SibSp</th>\n",
       "      <th>Parch</th>\n",
       "      <th>Ticket</th>\n",
       "      <th>Fare</th>\n",
       "      <th>Cabin</th>\n",
       "      <th>Embarked</th>\n",
       "    </tr>\n",
       "  </thead>\n",
       "  <tbody>\n",
       "    <tr>\n",
       "      <th>886</th>\n",
       "      <td>887</td>\n",
       "      <td>0</td>\n",
       "      <td>2</td>\n",
       "      <td>Montvila, Rev. Juozas</td>\n",
       "      <td>male</td>\n",
       "      <td>27.0</td>\n",
       "      <td>0</td>\n",
       "      <td>0</td>\n",
       "      <td>211536</td>\n",
       "      <td>13.00</td>\n",
       "      <td>NaN</td>\n",
       "      <td>S</td>\n",
       "    </tr>\n",
       "    <tr>\n",
       "      <th>887</th>\n",
       "      <td>888</td>\n",
       "      <td>1</td>\n",
       "      <td>1</td>\n",
       "      <td>Graham, Miss. Margaret Edith</td>\n",
       "      <td>female</td>\n",
       "      <td>19.0</td>\n",
       "      <td>0</td>\n",
       "      <td>0</td>\n",
       "      <td>112053</td>\n",
       "      <td>30.00</td>\n",
       "      <td>B42</td>\n",
       "      <td>S</td>\n",
       "    </tr>\n",
       "    <tr>\n",
       "      <th>888</th>\n",
       "      <td>889</td>\n",
       "      <td>0</td>\n",
       "      <td>3</td>\n",
       "      <td>Johnston, Miss. Catherine Helen \"Carrie\"</td>\n",
       "      <td>female</td>\n",
       "      <td>NaN</td>\n",
       "      <td>1</td>\n",
       "      <td>2</td>\n",
       "      <td>W./C. 6607</td>\n",
       "      <td>23.45</td>\n",
       "      <td>NaN</td>\n",
       "      <td>S</td>\n",
       "    </tr>\n",
       "    <tr>\n",
       "      <th>889</th>\n",
       "      <td>890</td>\n",
       "      <td>1</td>\n",
       "      <td>1</td>\n",
       "      <td>Behr, Mr. Karl Howell</td>\n",
       "      <td>male</td>\n",
       "      <td>26.0</td>\n",
       "      <td>0</td>\n",
       "      <td>0</td>\n",
       "      <td>111369</td>\n",
       "      <td>30.00</td>\n",
       "      <td>C148</td>\n",
       "      <td>C</td>\n",
       "    </tr>\n",
       "    <tr>\n",
       "      <th>890</th>\n",
       "      <td>891</td>\n",
       "      <td>0</td>\n",
       "      <td>3</td>\n",
       "      <td>Dooley, Mr. Patrick</td>\n",
       "      <td>male</td>\n",
       "      <td>32.0</td>\n",
       "      <td>0</td>\n",
       "      <td>0</td>\n",
       "      <td>370376</td>\n",
       "      <td>7.75</td>\n",
       "      <td>NaN</td>\n",
       "      <td>Q</td>\n",
       "    </tr>\n",
       "  </tbody>\n",
       "</table>\n",
       "</div>"
      ],
      "text/plain": [
       "     PassengerId  Survived  Pclass                                      Name  \\\n",
       "886          887         0       2                     Montvila, Rev. Juozas   \n",
       "887          888         1       1              Graham, Miss. Margaret Edith   \n",
       "888          889         0       3  Johnston, Miss. Catherine Helen \"Carrie\"   \n",
       "889          890         1       1                     Behr, Mr. Karl Howell   \n",
       "890          891         0       3                       Dooley, Mr. Patrick   \n",
       "\n",
       "        Sex   Age  SibSp  Parch      Ticket   Fare Cabin Embarked  \n",
       "886    male  27.0      0      0      211536  13.00   NaN        S  \n",
       "887  female  19.0      0      0      112053  30.00   B42        S  \n",
       "888  female   NaN      1      2  W./C. 6607  23.45   NaN        S  \n",
       "889    male  26.0      0      0      111369  30.00  C148        C  \n",
       "890    male  32.0      0      0      370376   7.75   NaN        Q  "
      ]
     },
     "execution_count": 59,
     "metadata": {},
     "output_type": "execute_result"
    }
   ],
   "source": [
    "titanic.tail()"
   ]
  },
  {
   "cell_type": "markdown",
   "metadata": {},
   "source": [
    "Em seguida averiguar os tipos de dados e os totais de ocorrências"
   ]
  },
  {
   "cell_type": "code",
   "execution_count": 60,
   "metadata": {
    "collapsed": false
   },
   "outputs": [
    {
     "name": "stdout",
     "output_type": "stream",
     "text": [
      "<class 'pandas.core.frame.DataFrame'>\n",
      "RangeIndex: 891 entries, 0 to 890\n",
      "Data columns (total 12 columns):\n",
      "PassengerId    891 non-null int64\n",
      "Survived       891 non-null int64\n",
      "Pclass         891 non-null int64\n",
      "Name           891 non-null object\n",
      "Sex            891 non-null object\n",
      "Age            714 non-null float64\n",
      "SibSp          891 non-null int64\n",
      "Parch          891 non-null int64\n",
      "Ticket         891 non-null object\n",
      "Fare           891 non-null float64\n",
      "Cabin          204 non-null object\n",
      "Embarked       889 non-null object\n",
      "dtypes: float64(2), int64(5), object(5)\n",
      "memory usage: 83.6+ KB\n"
     ]
    }
   ],
   "source": [
    "titanic.info()"
   ]
  },
  {
   "cell_type": "markdown",
   "metadata": {},
   "source": [
    "Averiguar também alguns cálculos básicos sobre as variáveis numéricas"
   ]
  },
  {
   "cell_type": "code",
   "execution_count": 61,
   "metadata": {
    "collapsed": false
   },
   "outputs": [
    {
     "data": {
      "text/html": [
       "<div>\n",
       "<table border=\"1\" class=\"dataframe\">\n",
       "  <thead>\n",
       "    <tr style=\"text-align: right;\">\n",
       "      <th></th>\n",
       "      <th>PassengerId</th>\n",
       "      <th>Survived</th>\n",
       "      <th>Pclass</th>\n",
       "      <th>Age</th>\n",
       "      <th>SibSp</th>\n",
       "      <th>Parch</th>\n",
       "      <th>Fare</th>\n",
       "    </tr>\n",
       "  </thead>\n",
       "  <tbody>\n",
       "    <tr>\n",
       "      <th>count</th>\n",
       "      <td>891.000000</td>\n",
       "      <td>891.000000</td>\n",
       "      <td>891.000000</td>\n",
       "      <td>714.000000</td>\n",
       "      <td>891.000000</td>\n",
       "      <td>891.000000</td>\n",
       "      <td>891.000000</td>\n",
       "    </tr>\n",
       "    <tr>\n",
       "      <th>mean</th>\n",
       "      <td>446.000000</td>\n",
       "      <td>0.383838</td>\n",
       "      <td>2.308642</td>\n",
       "      <td>29.699118</td>\n",
       "      <td>0.523008</td>\n",
       "      <td>0.381594</td>\n",
       "      <td>32.204208</td>\n",
       "    </tr>\n",
       "    <tr>\n",
       "      <th>std</th>\n",
       "      <td>257.353842</td>\n",
       "      <td>0.486592</td>\n",
       "      <td>0.836071</td>\n",
       "      <td>14.526497</td>\n",
       "      <td>1.102743</td>\n",
       "      <td>0.806057</td>\n",
       "      <td>49.693429</td>\n",
       "    </tr>\n",
       "    <tr>\n",
       "      <th>min</th>\n",
       "      <td>1.000000</td>\n",
       "      <td>0.000000</td>\n",
       "      <td>1.000000</td>\n",
       "      <td>0.420000</td>\n",
       "      <td>0.000000</td>\n",
       "      <td>0.000000</td>\n",
       "      <td>0.000000</td>\n",
       "    </tr>\n",
       "    <tr>\n",
       "      <th>25%</th>\n",
       "      <td>223.500000</td>\n",
       "      <td>0.000000</td>\n",
       "      <td>2.000000</td>\n",
       "      <td>20.125000</td>\n",
       "      <td>0.000000</td>\n",
       "      <td>0.000000</td>\n",
       "      <td>7.910400</td>\n",
       "    </tr>\n",
       "    <tr>\n",
       "      <th>50%</th>\n",
       "      <td>446.000000</td>\n",
       "      <td>0.000000</td>\n",
       "      <td>3.000000</td>\n",
       "      <td>28.000000</td>\n",
       "      <td>0.000000</td>\n",
       "      <td>0.000000</td>\n",
       "      <td>14.454200</td>\n",
       "    </tr>\n",
       "    <tr>\n",
       "      <th>75%</th>\n",
       "      <td>668.500000</td>\n",
       "      <td>1.000000</td>\n",
       "      <td>3.000000</td>\n",
       "      <td>38.000000</td>\n",
       "      <td>1.000000</td>\n",
       "      <td>0.000000</td>\n",
       "      <td>31.000000</td>\n",
       "    </tr>\n",
       "    <tr>\n",
       "      <th>max</th>\n",
       "      <td>891.000000</td>\n",
       "      <td>1.000000</td>\n",
       "      <td>3.000000</td>\n",
       "      <td>80.000000</td>\n",
       "      <td>8.000000</td>\n",
       "      <td>6.000000</td>\n",
       "      <td>512.329200</td>\n",
       "    </tr>\n",
       "  </tbody>\n",
       "</table>\n",
       "</div>"
      ],
      "text/plain": [
       "       PassengerId    Survived      Pclass         Age       SibSp  \\\n",
       "count   891.000000  891.000000  891.000000  714.000000  891.000000   \n",
       "mean    446.000000    0.383838    2.308642   29.699118    0.523008   \n",
       "std     257.353842    0.486592    0.836071   14.526497    1.102743   \n",
       "min       1.000000    0.000000    1.000000    0.420000    0.000000   \n",
       "25%     223.500000    0.000000    2.000000   20.125000    0.000000   \n",
       "50%     446.000000    0.000000    3.000000   28.000000    0.000000   \n",
       "75%     668.500000    1.000000    3.000000   38.000000    1.000000   \n",
       "max     891.000000    1.000000    3.000000   80.000000    8.000000   \n",
       "\n",
       "            Parch        Fare  \n",
       "count  891.000000  891.000000  \n",
       "mean     0.381594   32.204208  \n",
       "std      0.806057   49.693429  \n",
       "min      0.000000    0.000000  \n",
       "25%      0.000000    7.910400  \n",
       "50%      0.000000   14.454200  \n",
       "75%      0.000000   31.000000  \n",
       "max      6.000000  512.329200  "
      ]
     },
     "execution_count": 61,
     "metadata": {},
     "output_type": "execute_result"
    }
   ],
   "source": [
    "titanic.describe()"
   ]
  },
  {
   "cell_type": "markdown",
   "metadata": {},
   "source": [
    "Observou-se que 177 passageiros aparentemente não possuem informações referentes à idade e 687 não possuem informações de Cabine. Idade é uma das variáveis de interesse que pode nos ajudar a responder as perguntas propostas, portanto, seria interessante tormamos alguma decisão quanto aos registros sem idade.\n",
    "\n",
    "Verificaremos se há ocorrências duplicadas, partindo da premissa que PassengerId identifica unicamente cada passageiro."
   ]
  },
  {
   "cell_type": "code",
   "execution_count": 62,
   "metadata": {
    "collapsed": false
   },
   "outputs": [
    {
     "data": {
      "text/plain": [
       "891"
      ]
     },
     "execution_count": 62,
     "metadata": {},
     "output_type": "execute_result"
    }
   ],
   "source": [
    "len(list(titanic['PassengerId'].unique()))"
   ]
  },
  {
   "cell_type": "markdown",
   "metadata": {},
   "source": [
    "Como observado, existem 891 passageiros diferentes nessa amostra, e temos 12 variáveis descritivas da amostra, sendo 5 delas categóricas. Dentre as variáveis categóricas, no escopo dessa análise faremos uso tão somente da variável referente ao gênero. As demais categóricas serão deliberadamente descartadas. Esse fato deve ser considerado como relevante na proposição das respostas."
   ]
  },
  {
   "cell_type": "code",
   "execution_count": 63,
   "metadata": {
    "collapsed": false
   },
   "outputs": [
    {
     "data": {
      "text/html": [
       "<div>\n",
       "<table border=\"1\" class=\"dataframe\">\n",
       "  <thead>\n",
       "    <tr style=\"text-align: right;\">\n",
       "      <th></th>\n",
       "      <th>Survived</th>\n",
       "      <th>Pclass</th>\n",
       "      <th>Sex</th>\n",
       "      <th>Age</th>\n",
       "      <th>SibSp</th>\n",
       "      <th>Parch</th>\n",
       "    </tr>\n",
       "  </thead>\n",
       "  <tbody>\n",
       "    <tr>\n",
       "      <th>0</th>\n",
       "      <td>0</td>\n",
       "      <td>3</td>\n",
       "      <td>male</td>\n",
       "      <td>22.0</td>\n",
       "      <td>1</td>\n",
       "      <td>0</td>\n",
       "    </tr>\n",
       "    <tr>\n",
       "      <th>1</th>\n",
       "      <td>1</td>\n",
       "      <td>1</td>\n",
       "      <td>female</td>\n",
       "      <td>38.0</td>\n",
       "      <td>1</td>\n",
       "      <td>0</td>\n",
       "    </tr>\n",
       "    <tr>\n",
       "      <th>2</th>\n",
       "      <td>1</td>\n",
       "      <td>3</td>\n",
       "      <td>female</td>\n",
       "      <td>26.0</td>\n",
       "      <td>0</td>\n",
       "      <td>0</td>\n",
       "    </tr>\n",
       "    <tr>\n",
       "      <th>3</th>\n",
       "      <td>1</td>\n",
       "      <td>1</td>\n",
       "      <td>female</td>\n",
       "      <td>35.0</td>\n",
       "      <td>1</td>\n",
       "      <td>0</td>\n",
       "    </tr>\n",
       "    <tr>\n",
       "      <th>4</th>\n",
       "      <td>0</td>\n",
       "      <td>3</td>\n",
       "      <td>male</td>\n",
       "      <td>35.0</td>\n",
       "      <td>0</td>\n",
       "      <td>0</td>\n",
       "    </tr>\n",
       "  </tbody>\n",
       "</table>\n",
       "</div>"
      ],
      "text/plain": [
       "   Survived  Pclass     Sex   Age  SibSp  Parch\n",
       "0         0       3    male  22.0      1      0\n",
       "1         1       1  female  38.0      1      0\n",
       "2         1       3  female  26.0      0      0\n",
       "3         1       1  female  35.0      1      0\n",
       "4         0       3    male  35.0      0      0"
      ]
     },
     "execution_count": 63,
     "metadata": {},
     "output_type": "execute_result"
    }
   ],
   "source": [
    "# Conservando o dataframe original e criando um para sofrer as transformações\n",
    "titanic_limpo = titanic\n",
    "titanic_limpo.drop(['PassengerId','Name','Ticket','Cabin','Fare','Embarked'], axis=1, inplace=True)\n",
    "titanic_limpo.head()"
   ]
  },
  {
   "cell_type": "markdown",
   "metadata": {},
   "source": [
    "Para lidar com a questão dos passageiros sem registro de idade, deliberadamente preencheremos os valores faltantes com a média das idades por sexo e classe. Talvez essa não seja a forma estatisticamente mais correta de inputar dados e lidar com valores faltantes, mas para não fugir muito do escopo do projeto nos limitaremos à essa deliberação. Essa deliberação para inputar valores faltantes deve ser considerada como fator relevante no momento de responder às perguntas propostas."
   ]
  },
  {
   "cell_type": "code",
   "execution_count": 64,
   "metadata": {
    "collapsed": true
   },
   "outputs": [],
   "source": [
    "# Preenchendo valores faltantes com a média de idade por sexo e classe\n",
    "titanic_limpo['Age'].fillna(titanic_limpo.groupby(['Sex', 'Pclass'])['Age'].transform('mean'), inplace=True)"
   ]
  },
  {
   "cell_type": "markdown",
   "metadata": {},
   "source": [
    "Por fim, para finalizar uma primeira grande olhada nos dados, vale a pena considerar uma rápida análise visual do dataframe em busca de padrões iniciais que possam ajudar em algo. Uma boa forma de fazer essa rápida análise é usando a matriz de scatterplot, ou pairplot."
   ]
  },
  {
   "cell_type": "code",
   "execution_count": 65,
   "metadata": {
    "collapsed": false
   },
   "outputs": [
    {
     "data": {
      "text/plain": [
       "<seaborn.axisgrid.PairGrid at 0x125a3c950>"
      ]
     },
     "execution_count": 65,
     "metadata": {},
     "output_type": "execute_result"
    },
    {
     "data": {
      "image/png": "[encoded data removed]",
      "text/plain": [
       "<matplotlib.figure.Figure at 0x125a3cb50>"
      ]
     },
     "metadata": {},
     "output_type": "display_data"
    }
   ],
   "source": [
    "sns.pairplot(titanic_limpo, hue='Survived')"
   ]
  },
  {
   "cell_type": "markdown",
   "metadata": {},
   "source": [
    "Essa primeira visualização por si só não revelou padrões que saltem aos olhos. Espera-se que visualizações mais detalhadas consigam elucidar melhor os aspectos relevantes para que possamos responder as perguntas propostas.\n",
    "\n",
    "Para deixar a leitura da análise um pouco mais fácil e elegante, converteremos o 0 e 1 da variável survived para Vivo ou Morto"
   ]
  },
  {
   "cell_type": "code",
   "execution_count": 66,
   "metadata": {
    "collapsed": false
   },
   "outputs": [
    {
     "data": {
      "text/html": [
       "<div>\n",
       "<table border=\"1\" class=\"dataframe\">\n",
       "  <thead>\n",
       "    <tr style=\"text-align: right;\">\n",
       "      <th></th>\n",
       "      <th>Pclass</th>\n",
       "      <th>Sex</th>\n",
       "      <th>Age</th>\n",
       "      <th>SibSp</th>\n",
       "      <th>Parch</th>\n",
       "      <th>Survived_lbl</th>\n",
       "    </tr>\n",
       "  </thead>\n",
       "  <tbody>\n",
       "    <tr>\n",
       "      <th>0</th>\n",
       "      <td>3</td>\n",
       "      <td>male</td>\n",
       "      <td>22.0</td>\n",
       "      <td>1</td>\n",
       "      <td>0</td>\n",
       "      <td>Morto</td>\n",
       "    </tr>\n",
       "    <tr>\n",
       "      <th>1</th>\n",
       "      <td>1</td>\n",
       "      <td>female</td>\n",
       "      <td>38.0</td>\n",
       "      <td>1</td>\n",
       "      <td>0</td>\n",
       "      <td>Vivo</td>\n",
       "    </tr>\n",
       "    <tr>\n",
       "      <th>2</th>\n",
       "      <td>3</td>\n",
       "      <td>female</td>\n",
       "      <td>26.0</td>\n",
       "      <td>0</td>\n",
       "      <td>0</td>\n",
       "      <td>Vivo</td>\n",
       "    </tr>\n",
       "    <tr>\n",
       "      <th>3</th>\n",
       "      <td>1</td>\n",
       "      <td>female</td>\n",
       "      <td>35.0</td>\n",
       "      <td>1</td>\n",
       "      <td>0</td>\n",
       "      <td>Vivo</td>\n",
       "    </tr>\n",
       "    <tr>\n",
       "      <th>4</th>\n",
       "      <td>3</td>\n",
       "      <td>male</td>\n",
       "      <td>35.0</td>\n",
       "      <td>0</td>\n",
       "      <td>0</td>\n",
       "      <td>Morto</td>\n",
       "    </tr>\n",
       "  </tbody>\n",
       "</table>\n",
       "</div>"
      ],
      "text/plain": [
       "   Pclass     Sex   Age  SibSp  Parch Survived_lbl\n",
       "0       3    male  22.0      1      0        Morto\n",
       "1       1  female  38.0      1      0         Vivo\n",
       "2       3  female  26.0      0      0         Vivo\n",
       "3       1  female  35.0      1      0         Vivo\n",
       "4       3    male  35.0      0      0        Morto"
      ]
     },
     "execution_count": 66,
     "metadata": {},
     "output_type": "execute_result"
    }
   ],
   "source": [
    "# Criando label para indicar melhor se o passageiro está vivo ou morto\n",
    "titanic_limpo['Survived_lbl'] = 0\n",
    "titanic_limpo.loc[titanic_limpo.Survived == 1, ['Survived_lbl']] = 'Vivo'\n",
    "titanic_limpo.loc[titanic_limpo.Survived == 0, ['Survived_lbl']] = 'Morto'\n",
    "titanic_limpo.drop(['Survived'], axis=1, inplace=True)\n",
    "\n",
    "titanic_limpo.head()"
   ]
  },
  {
   "cell_type": "markdown",
   "metadata": {},
   "source": [
    "Dadas as considerações acima, partiermos para tentar responder às perguntas."
   ]
  },
  {
   "cell_type": "markdown",
   "metadata": {},
   "source": [
    "### 1 - Existe alguma aparente relação entre o número de sobreviventes e a idade do passageiro? "
   ]
  },
  {
   "cell_type": "markdown",
   "metadata": {},
   "source": [
    "Primeiramenteo buscaremos entender como é a distribuição dos passageiros por idade."
   ]
  },
  {
   "cell_type": "code",
   "execution_count": 68,
   "metadata": {
    "collapsed": false
   },
   "outputs": [
    {
     "data": {
      "text/plain": [
       "<matplotlib.text.Text at 0x127936d50>"
      ]
     },
     "execution_count": 68,
     "metadata": {},
     "output_type": "execute_result"
    },
    {
     "data": {
      "image/png": "[encoded data removed]",
      "text/plain": [
       "<matplotlib.figure.Figure at 0x1278938d0>"
      ]
     },
     "metadata": {},
     "output_type": "display_data"
    }
   ],
   "source": [
    "histogramas = sns.FacetGrid(titanic_limpo, size=6, aspect=2)\n",
    "histogramas.map(sns.distplot,'Age', kde=False, bins=10)\n",
    "\n",
    "plt.title('Histograma por idades')"
   ]
  },
  {
   "cell_type": "markdown",
   "metadata": {},
   "source": [
    "Percebe-se uma boa concentração de passageiros entre 20 e 40 anos.\n",
    "\n",
    "Vamos averiguar a mesma distribuição se mantem entre os sobreviventes e mortos."
   ]
  },
  {
   "cell_type": "code",
   "execution_count": 69,
   "metadata": {
    "collapsed": false
   },
   "outputs": [
    {
     "data": {
      "text/plain": [
       "<matplotlib.text.Text at 0x127d60c90>"
      ]
     },
     "execution_count": 69,
     "metadata": {},
     "output_type": "execute_result"
    },
    {
     "data": {
      "image/png": "[encoded data removed]",
      "text/plain": [
       "<matplotlib.figure.Figure at 0x126f3f810>"
      ]
     },
     "metadata": {},
     "output_type": "display_data"
    }
   ],
   "source": [
    "histogramas = sns.FacetGrid(titanic_limpo, hue=\"Survived_lbl\", size=6, aspect=2)\n",
    "histogramas.map(sns.distplot,'Age', kde=False, bins=10)\n",
    "histogramas.add_legend()\n",
    "\n",
    "plt.title('Histograma por idades para vivos e mortos')"
   ]
  },
  {
   "cell_type": "markdown",
   "metadata": {
    "collapsed": true
   },
   "source": [
    "Parece haver uma concentração maior de mortos entre 20 e 30 anos.\n",
    "\n",
    "Vamos olhar as quantidades e as médias das idades entre vivos e mortos."
   ]
  },
  {
   "cell_type": "code",
   "execution_count": 70,
   "metadata": {
    "collapsed": false
   },
   "outputs": [
    {
     "data": {
      "text/html": [
       "<div>\n",
       "<table border=\"1\" class=\"dataframe\">\n",
       "  <thead>\n",
       "    <tr style=\"text-align: right;\">\n",
       "      <th></th>\n",
       "      <th>mean</th>\n",
       "      <th>count</th>\n",
       "    </tr>\n",
       "    <tr>\n",
       "      <th>Survived_lbl</th>\n",
       "      <th></th>\n",
       "      <th></th>\n",
       "    </tr>\n",
       "  </thead>\n",
       "  <tbody>\n",
       "    <tr>\n",
       "      <th>Morto</th>\n",
       "      <td>30.025651</td>\n",
       "      <td>549</td>\n",
       "    </tr>\n",
       "    <tr>\n",
       "      <th>Vivo</th>\n",
       "      <td>28.183709</td>\n",
       "      <td>342</td>\n",
       "    </tr>\n",
       "  </tbody>\n",
       "</table>\n",
       "</div>"
      ],
      "text/plain": [
       "                   mean  count\n",
       "Survived_lbl                  \n",
       "Morto         30.025651    549\n",
       "Vivo          28.183709    342"
      ]
     },
     "execution_count": 70,
     "metadata": {},
     "output_type": "execute_result"
    }
   ],
   "source": [
    "titanic_limpo.groupby(['Survived_lbl'])['Age'].agg(['mean', 'count'])"
   ]
  },
  {
   "cell_type": "markdown",
   "metadata": {},
   "source": [
    "Para ilustrar, vamos usar o boxplot para visualizar melhor as diferenças"
   ]
  },
  {
   "cell_type": "code",
   "execution_count": 72,
   "metadata": {
    "collapsed": false
   },
   "outputs": [
    {
     "data": {
      "text/plain": [
       "<matplotlib.text.Text at 0x1283f3250>"
      ]
     },
     "execution_count": 72,
     "metadata": {},
     "output_type": "execute_result"
    },
    {
     "data": {
      "image/png": "[encoded data removed]",
      "text/plain": [
       "<matplotlib.figure.Figure at 0x128169550>"
      ]
     },
     "metadata": {},
     "output_type": "display_data"
    }
   ],
   "source": [
    "# Quanto à idade por si só \n",
    "sns.boxplot(y = \"Age\", data = titanic_limpo)\n",
    "\n",
    "plt.ylabel('Idade')\n",
    "plt.title('Boxplot por idade')"
   ]
  },
  {
   "cell_type": "code",
   "execution_count": 74,
   "metadata": {
    "collapsed": false,
    "scrolled": true
   },
   "outputs": [
    {
     "data": {
      "text/plain": [
       "<matplotlib.text.Text at 0x1286a1190>"
      ]
     },
     "execution_count": 74,
     "metadata": {},
     "output_type": "execute_result"
    },
    {
     "data": {
      "image/png": "[encoded data removed]",
      "text/plain": [
       "<matplotlib.figure.Figure at 0x1285b2fd0>"
      ]
     },
     "metadata": {},
     "output_type": "display_data"
    }
   ],
   "source": [
    "# Quanto à idade por sobrevivência\n",
    "sns.boxplot(x = \"Survived_lbl\", y = \"Age\", data = titanic_limpo)\n",
    "\n",
    "plt.xlabel('')\n",
    "plt.ylabel('Idade')\n",
    "plt.title('Boxplot por idade de vivos e mortos')"
   ]
  },
  {
   "cell_type": "markdown",
   "metadata": {},
   "source": [
    "A média geral não parece ser muito diferente entre vivos e mortos, porém, dado que notamos uma concentração grande de mortos em uma faixa etária no histograma, talvez seja interessante separar os passageiros em grupos etários para vermos se há algum grupo que parece ter sobrevivido muito mais do que outro. A ideia de dividir em grupos nos ajudará a entender se houve algum tratamento diferente para crianças, adolescentes, jovens, adultos, ou idosos na hora de buscar botes ou locais seguros. \n",
    "\n",
    "Discricionariamente dividiremos as idades em grupos de 10."
   ]
  },
  {
   "cell_type": "code",
   "execution_count": 75,
   "metadata": {
    "collapsed": false,
    "scrolled": true
   },
   "outputs": [
    {
     "data": {
      "text/html": [
       "<div>\n",
       "<table border=\"1\" class=\"dataframe\">\n",
       "  <thead>\n",
       "    <tr style=\"text-align: right;\">\n",
       "      <th></th>\n",
       "      <th>Pclass</th>\n",
       "      <th>Sex</th>\n",
       "      <th>SibSp</th>\n",
       "      <th>Parch</th>\n",
       "      <th>Survived_lbl</th>\n",
       "      <th>Grupos_idade</th>\n",
       "    </tr>\n",
       "  </thead>\n",
       "  <tbody>\n",
       "    <tr>\n",
       "      <th>0</th>\n",
       "      <td>3</td>\n",
       "      <td>male</td>\n",
       "      <td>1</td>\n",
       "      <td>0</td>\n",
       "      <td>Morto</td>\n",
       "      <td>(20, 30]</td>\n",
       "    </tr>\n",
       "    <tr>\n",
       "      <th>1</th>\n",
       "      <td>1</td>\n",
       "      <td>female</td>\n",
       "      <td>1</td>\n",
       "      <td>0</td>\n",
       "      <td>Vivo</td>\n",
       "      <td>(30, 40]</td>\n",
       "    </tr>\n",
       "    <tr>\n",
       "      <th>2</th>\n",
       "      <td>3</td>\n",
       "      <td>female</td>\n",
       "      <td>0</td>\n",
       "      <td>0</td>\n",
       "      <td>Vivo</td>\n",
       "      <td>(20, 30]</td>\n",
       "    </tr>\n",
       "    <tr>\n",
       "      <th>3</th>\n",
       "      <td>1</td>\n",
       "      <td>female</td>\n",
       "      <td>1</td>\n",
       "      <td>0</td>\n",
       "      <td>Vivo</td>\n",
       "      <td>(30, 40]</td>\n",
       "    </tr>\n",
       "    <tr>\n",
       "      <th>4</th>\n",
       "      <td>3</td>\n",
       "      <td>male</td>\n",
       "      <td>0</td>\n",
       "      <td>0</td>\n",
       "      <td>Morto</td>\n",
       "      <td>(30, 40]</td>\n",
       "    </tr>\n",
       "  </tbody>\n",
       "</table>\n",
       "</div>"
      ],
      "text/plain": [
       "   Pclass     Sex  SibSp  Parch Survived_lbl Grupos_idade\n",
       "0       3    male      1      0        Morto     (20, 30]\n",
       "1       1  female      1      0         Vivo     (30, 40]\n",
       "2       3  female      0      0         Vivo     (20, 30]\n",
       "3       1  female      1      0         Vivo     (30, 40]\n",
       "4       3    male      0      0        Morto     (30, 40]"
      ]
     },
     "execution_count": 75,
     "metadata": {},
     "output_type": "execute_result"
    }
   ],
   "source": [
    "# Levando em conta que as idades estão entre 0 e 80 anos, criaremos grupos que contemple esse espectro de idades.\n",
    "idades = [0, 10, 20, 30, 40, 50, 60, 70, 80] \n",
    "titanic_limpo['Grupos_idade'] = pd.cut(titanic_limpo['Age'], idades)\n",
    "titanic_limpo.drop(['Age'], axis=1, inplace=True)\n",
    "titanic_limpo.head()"
   ]
  },
  {
   "cell_type": "code",
   "execution_count": 76,
   "metadata": {
    "collapsed": false
   },
   "outputs": [
    {
     "data": {
      "text/html": [
       "<div>\n",
       "<table border=\"1\" class=\"dataframe\">\n",
       "  <thead>\n",
       "    <tr style=\"text-align: right;\">\n",
       "      <th></th>\n",
       "      <th>Grupos_idade</th>\n",
       "      <th>Survived_lbl</th>\n",
       "      <th>Total</th>\n",
       "    </tr>\n",
       "  </thead>\n",
       "  <tbody>\n",
       "    <tr>\n",
       "      <th>0</th>\n",
       "      <td>(0, 10]</td>\n",
       "      <td>Morto</td>\n",
       "      <td>26</td>\n",
       "    </tr>\n",
       "    <tr>\n",
       "      <th>1</th>\n",
       "      <td>(0, 10]</td>\n",
       "      <td>Vivo</td>\n",
       "      <td>38</td>\n",
       "    </tr>\n",
       "    <tr>\n",
       "      <th>2</th>\n",
       "      <td>(10, 20]</td>\n",
       "      <td>Morto</td>\n",
       "      <td>71</td>\n",
       "    </tr>\n",
       "    <tr>\n",
       "      <th>3</th>\n",
       "      <td>(10, 20]</td>\n",
       "      <td>Vivo</td>\n",
       "      <td>44</td>\n",
       "    </tr>\n",
       "    <tr>\n",
       "      <th>4</th>\n",
       "      <td>(20, 30]</td>\n",
       "      <td>Morto</td>\n",
       "      <td>248</td>\n",
       "    </tr>\n",
       "    <tr>\n",
       "      <th>5</th>\n",
       "      <td>(20, 30]</td>\n",
       "      <td>Vivo</td>\n",
       "      <td>120</td>\n",
       "    </tr>\n",
       "    <tr>\n",
       "      <th>6</th>\n",
       "      <td>(30, 40]</td>\n",
       "      <td>Morto</td>\n",
       "      <td>93</td>\n",
       "    </tr>\n",
       "    <tr>\n",
       "      <th>7</th>\n",
       "      <td>(30, 40]</td>\n",
       "      <td>Vivo</td>\n",
       "      <td>80</td>\n",
       "    </tr>\n",
       "    <tr>\n",
       "      <th>8</th>\n",
       "      <td>(40, 50]</td>\n",
       "      <td>Morto</td>\n",
       "      <td>69</td>\n",
       "    </tr>\n",
       "    <tr>\n",
       "      <th>9</th>\n",
       "      <td>(40, 50]</td>\n",
       "      <td>Vivo</td>\n",
       "      <td>38</td>\n",
       "    </tr>\n",
       "    <tr>\n",
       "      <th>10</th>\n",
       "      <td>(50, 60]</td>\n",
       "      <td>Morto</td>\n",
       "      <td>25</td>\n",
       "    </tr>\n",
       "    <tr>\n",
       "      <th>11</th>\n",
       "      <td>(50, 60]</td>\n",
       "      <td>Vivo</td>\n",
       "      <td>17</td>\n",
       "    </tr>\n",
       "    <tr>\n",
       "      <th>12</th>\n",
       "      <td>(60, 70]</td>\n",
       "      <td>Morto</td>\n",
       "      <td>13</td>\n",
       "    </tr>\n",
       "    <tr>\n",
       "      <th>13</th>\n",
       "      <td>(60, 70]</td>\n",
       "      <td>Vivo</td>\n",
       "      <td>4</td>\n",
       "    </tr>\n",
       "    <tr>\n",
       "      <th>14</th>\n",
       "      <td>(70, 80]</td>\n",
       "      <td>Morto</td>\n",
       "      <td>4</td>\n",
       "    </tr>\n",
       "    <tr>\n",
       "      <th>15</th>\n",
       "      <td>(70, 80]</td>\n",
       "      <td>Vivo</td>\n",
       "      <td>1</td>\n",
       "    </tr>\n",
       "  </tbody>\n",
       "</table>\n",
       "</div>"
      ],
      "text/plain": [
       "   Grupos_idade Survived_lbl  Total\n",
       "0       (0, 10]        Morto     26\n",
       "1       (0, 10]         Vivo     38\n",
       "2      (10, 20]        Morto     71\n",
       "3      (10, 20]         Vivo     44\n",
       "4      (20, 30]        Morto    248\n",
       "5      (20, 30]         Vivo    120\n",
       "6      (30, 40]        Morto     93\n",
       "7      (30, 40]         Vivo     80\n",
       "8      (40, 50]        Morto     69\n",
       "9      (40, 50]         Vivo     38\n",
       "10     (50, 60]        Morto     25\n",
       "11     (50, 60]         Vivo     17\n",
       "12     (60, 70]        Morto     13\n",
       "13     (60, 70]         Vivo      4\n",
       "14     (70, 80]        Morto      4\n",
       "15     (70, 80]         Vivo      1"
      ]
     },
     "execution_count": 76,
     "metadata": {},
     "output_type": "execute_result"
    }
   ],
   "source": [
    "# Contando o total de vivos e mortos por grupos de idade\n",
    "sobreviventes_por_grupo_idade = titanic_limpo.groupby(['Grupos_idade', 'Survived_lbl']).size().reset_index()\n",
    "sobreviventes_por_grupo_idade.columns = ['Grupos_idade', 'Survived_lbl', 'Total']\n",
    "sobreviventes_por_grupo_idade"
   ]
  },
  {
   "cell_type": "code",
   "execution_count": 79,
   "metadata": {
    "collapsed": false
   },
   "outputs": [
    {
     "data": {
      "text/plain": [
       "<matplotlib.text.Text at 0x128b55b90>"
      ]
     },
     "execution_count": 79,
     "metadata": {},
     "output_type": "execute_result"
    },
    {
     "data": {
      "image/png": "[encoded data removed]",
      "text/plain": [
       "<matplotlib.figure.Figure at 0x128b28a90>"
      ]
     },
     "metadata": {},
     "output_type": "display_data"
    }
   ],
   "source": [
    "# Visualiando o resultado\n",
    "sns.barplot(x=\"Grupos_idade\", y=\"Total\", hue=\"Survived_lbl\",\n",
    "              data=sobreviventes_por_grupo_idade)\n",
    "\n",
    "plt.xlabel('Grupos de idades')\n",
    "plt.ylabel('Quantidade de passageiros')\n",
    "plt.title('Total de vivos e mortos por grupos de idade')"
   ]
  },
  {
   "cell_type": "markdown",
   "metadata": {},
   "source": [
    "Nesse ponto, apenas com elementos visuais e com a tabela de totais, podemos perceber que há uma grande diferença nos totais de vivos e mortos no grupo de idade entre 20 e 30 anos. Vale notar também que no grupo de idades entre 0 e 10 anos houve mais sobreviventes do que mortos, fato que não ocorre nos demais grupos (sempre há mais mortos que sobreviventes).\n",
    "\n",
    "Devemos lembrar que houve preenchimento dos dados de idade que faltavam e as demais variáveis foram ignoradas, ou seja, a idade está sendo analisada isoladamente. Vale lembrar também que, limitando o escopo da análise, não foi realizado nenhum teste estatístico de fato. Resultados mais profundos talves fossem observados se outras variáveis fossem analisadas conjuntamente com a idade.\n",
    "\n",
    "#### **Respondendo a pergunta, parece haver algum fator que fez com que as pessoas entre 20 e 30 anos morressem muito mais do que sobrevivessem, bem como algum outro fator que tenha feito as crianças entre 0 e 10 anos sobrevivessem mais do que morressem.** \n",
    "\n",
    "Extrapolando os dados, pode ser que os adultos jovens (de 20 a 30 anos) tenham tentado ajudar crianças e idosos a se salvarem primeiro e dessa forma se expuseram a maiores riscos, aumentando sua chance de morrer."
   ]
  },
  {
   "cell_type": "markdown",
   "metadata": {},
   "source": [
    "### 2 - Existe alguma aparente relação entre o número de sobreviventes e o gênero do passageiro?"
   ]
  },
  {
   "cell_type": "code",
   "execution_count": null,
   "metadata": {
    "collapsed": true
   },
   "outputs": [],
   "source": [
    "Vamos traduzir os valores para apresentar melhor os resultados"
   ]
  },
  {
   "cell_type": "code",
   "execution_count": 80,
   "metadata": {
    "collapsed": false
   },
   "outputs": [],
   "source": [
    "titanic_limpo.loc[titanic_limpo.Sex == 'male', ['Sex']] = 'Homem'\n",
    "titanic_limpo.loc[titanic_limpo.Sex == 'female', ['Sex']] = 'Mulher'"
   ]
  },
  {
   "cell_type": "code",
   "execution_count": 81,
   "metadata": {
    "collapsed": false
   },
   "outputs": [
    {
     "data": {
      "text/plain": [
       "<matplotlib.text.Text at 0x128d74450>"
      ]
     },
     "execution_count": 81,
     "metadata": {},
     "output_type": "execute_result"
    },
    {
     "data": {
      "image/png": "[encoded data removed]",
      "text/plain": [
       "<matplotlib.figure.Figure at 0x128d44b50>"
      ]
     },
     "metadata": {},
     "output_type": "display_data"
    }
   ],
   "source": [
    "# Verificando as proporções entre homens e mulheres\n",
    "sns.factorplot('Sex', data = titanic_limpo, kind = 'count', size=6)\n",
    "\n",
    "plt.xlabel('')\n",
    "plt.ylabel('Quantidade de passageiros')\n",
    "plt.title('Total de passageiros por genero')"
   ]
  },
  {
   "cell_type": "code",
   "execution_count": 82,
   "metadata": {
    "collapsed": false
   },
   "outputs": [
    {
     "data": {
      "text/plain": [
       "<matplotlib.text.Text at 0x128fbdb10>"
      ]
     },
     "execution_count": 82,
     "metadata": {},
     "output_type": "execute_result"
    },
    {
     "data": {
      "image/png": "[encoded data removed]",
      "text/plain": [
       "<matplotlib.figure.Figure at 0x127cebc10>"
      ]
     },
     "metadata": {},
     "output_type": "display_data"
    }
   ],
   "source": [
    "# Verificando as proporções de vivos e mortos entre homens e mulheres\n",
    "sns.factorplot('Sex', hue = 'Survived_lbl', data = titanic_limpo, kind = 'count', size=6)\n",
    "\n",
    "plt.xlabel('')\n",
    "plt.ylabel('Quantidade de passageiros')\n",
    "plt.title('Total de vivos e mortos por genero')"
   ]
  },
  {
   "cell_type": "code",
   "execution_count": 83,
   "metadata": {
    "collapsed": false
   },
   "outputs": [
    {
     "data": {
      "text/html": [
       "<div>\n",
       "<table border=\"1\" class=\"dataframe\">\n",
       "  <thead>\n",
       "    <tr style=\"text-align: right;\">\n",
       "      <th></th>\n",
       "      <th>Sex</th>\n",
       "      <th>Survived_lbl</th>\n",
       "      <th>Total</th>\n",
       "    </tr>\n",
       "  </thead>\n",
       "  <tbody>\n",
       "    <tr>\n",
       "      <th>0</th>\n",
       "      <td>Homem</td>\n",
       "      <td>Morto</td>\n",
       "      <td>468</td>\n",
       "    </tr>\n",
       "    <tr>\n",
       "      <th>1</th>\n",
       "      <td>Homem</td>\n",
       "      <td>Vivo</td>\n",
       "      <td>109</td>\n",
       "    </tr>\n",
       "    <tr>\n",
       "      <th>2</th>\n",
       "      <td>Mulher</td>\n",
       "      <td>Morto</td>\n",
       "      <td>81</td>\n",
       "    </tr>\n",
       "    <tr>\n",
       "      <th>3</th>\n",
       "      <td>Mulher</td>\n",
       "      <td>Vivo</td>\n",
       "      <td>233</td>\n",
       "    </tr>\n",
       "  </tbody>\n",
       "</table>\n",
       "</div>"
      ],
      "text/plain": [
       "      Sex Survived_lbl  Total\n",
       "0   Homem        Morto    468\n",
       "1   Homem         Vivo    109\n",
       "2  Mulher        Morto     81\n",
       "3  Mulher         Vivo    233"
      ]
     },
     "execution_count": 83,
     "metadata": {},
     "output_type": "execute_result"
    }
   ],
   "source": [
    "# Contando o total de vivos e mortos por gênero\n",
    "sobreviventes_por_genero = titanic_limpo.groupby(['Sex', 'Survived_lbl']).size().reset_index()\n",
    "sobreviventes_por_genero.columns = ['Sex', 'Survived_lbl', 'Total']\n",
    "sobreviventes_por_genero"
   ]
  },
  {
   "cell_type": "markdown",
   "metadata": {},
   "source": [
    "Parece que há uma diferença grande quanto a proporção de sobreviventes e mortos entre homens e mulheres. Entre os homens o número de morotos foi mais do que o quádruplo do número de sobreviventes, e entre as mulheres o número de sobreviventes foi quase o triplo. A taxa de sobrevivência entre as mulheres foi muito maior do que entre os homens.\n",
    "\n",
    "Porém, para enriquecer mais a análise quanto ao gênero e também complementar a pergunta anterior que investigava a idade, vamos visualizar quanto são os mortos e sobreviventes entre homens e mulheres dentro de cada grupo de idades usado anteriormente."
   ]
  },
  {
   "cell_type": "code",
   "execution_count": 84,
   "metadata": {
    "collapsed": false
   },
   "outputs": [
    {
     "data": {
      "text/html": [
       "<div>\n",
       "<table border=\"1\" class=\"dataframe\">\n",
       "  <thead>\n",
       "    <tr style=\"text-align: right;\">\n",
       "      <th></th>\n",
       "      <th>Sex</th>\n",
       "      <th>Grupos_idade</th>\n",
       "      <th>Survived_lbl</th>\n",
       "      <th>Total</th>\n",
       "    </tr>\n",
       "  </thead>\n",
       "  <tbody>\n",
       "    <tr>\n",
       "      <th>0</th>\n",
       "      <td>Homem</td>\n",
       "      <td>(0, 10]</td>\n",
       "      <td>Morto</td>\n",
       "      <td>14</td>\n",
       "    </tr>\n",
       "    <tr>\n",
       "      <th>1</th>\n",
       "      <td>Homem</td>\n",
       "      <td>(0, 10]</td>\n",
       "      <td>Vivo</td>\n",
       "      <td>19</td>\n",
       "    </tr>\n",
       "    <tr>\n",
       "      <th>2</th>\n",
       "      <td>Homem</td>\n",
       "      <td>(10, 20]</td>\n",
       "      <td>Morto</td>\n",
       "      <td>59</td>\n",
       "    </tr>\n",
       "    <tr>\n",
       "      <th>3</th>\n",
       "      <td>Homem</td>\n",
       "      <td>(10, 20]</td>\n",
       "      <td>Vivo</td>\n",
       "      <td>10</td>\n",
       "    </tr>\n",
       "    <tr>\n",
       "      <th>4</th>\n",
       "      <td>Homem</td>\n",
       "      <td>(20, 30]</td>\n",
       "      <td>Morto</td>\n",
       "      <td>211</td>\n",
       "    </tr>\n",
       "    <tr>\n",
       "      <th>5</th>\n",
       "      <td>Homem</td>\n",
       "      <td>(20, 30]</td>\n",
       "      <td>Vivo</td>\n",
       "      <td>32</td>\n",
       "    </tr>\n",
       "    <tr>\n",
       "      <th>6</th>\n",
       "      <td>Homem</td>\n",
       "      <td>(30, 40]</td>\n",
       "      <td>Morto</td>\n",
       "      <td>84</td>\n",
       "    </tr>\n",
       "    <tr>\n",
       "      <th>7</th>\n",
       "      <td>Homem</td>\n",
       "      <td>(30, 40]</td>\n",
       "      <td>Vivo</td>\n",
       "      <td>25</td>\n",
       "    </tr>\n",
       "    <tr>\n",
       "      <th>8</th>\n",
       "      <td>Homem</td>\n",
       "      <td>(40, 50]</td>\n",
       "      <td>Morto</td>\n",
       "      <td>59</td>\n",
       "    </tr>\n",
       "    <tr>\n",
       "      <th>9</th>\n",
       "      <td>Homem</td>\n",
       "      <td>(40, 50]</td>\n",
       "      <td>Vivo</td>\n",
       "      <td>17</td>\n",
       "    </tr>\n",
       "    <tr>\n",
       "      <th>10</th>\n",
       "      <td>Homem</td>\n",
       "      <td>(50, 60]</td>\n",
       "      <td>Morto</td>\n",
       "      <td>24</td>\n",
       "    </tr>\n",
       "    <tr>\n",
       "      <th>11</th>\n",
       "      <td>Homem</td>\n",
       "      <td>(50, 60]</td>\n",
       "      <td>Vivo</td>\n",
       "      <td>4</td>\n",
       "    </tr>\n",
       "    <tr>\n",
       "      <th>12</th>\n",
       "      <td>Homem</td>\n",
       "      <td>(60, 70]</td>\n",
       "      <td>Morto</td>\n",
       "      <td>13</td>\n",
       "    </tr>\n",
       "    <tr>\n",
       "      <th>13</th>\n",
       "      <td>Homem</td>\n",
       "      <td>(60, 70]</td>\n",
       "      <td>Vivo</td>\n",
       "      <td>1</td>\n",
       "    </tr>\n",
       "    <tr>\n",
       "      <th>14</th>\n",
       "      <td>Homem</td>\n",
       "      <td>(70, 80]</td>\n",
       "      <td>Morto</td>\n",
       "      <td>4</td>\n",
       "    </tr>\n",
       "    <tr>\n",
       "      <th>15</th>\n",
       "      <td>Homem</td>\n",
       "      <td>(70, 80]</td>\n",
       "      <td>Vivo</td>\n",
       "      <td>1</td>\n",
       "    </tr>\n",
       "    <tr>\n",
       "      <th>16</th>\n",
       "      <td>Mulher</td>\n",
       "      <td>(0, 10]</td>\n",
       "      <td>Morto</td>\n",
       "      <td>12</td>\n",
       "    </tr>\n",
       "    <tr>\n",
       "      <th>17</th>\n",
       "      <td>Mulher</td>\n",
       "      <td>(0, 10]</td>\n",
       "      <td>Vivo</td>\n",
       "      <td>19</td>\n",
       "    </tr>\n",
       "    <tr>\n",
       "      <th>18</th>\n",
       "      <td>Mulher</td>\n",
       "      <td>(10, 20]</td>\n",
       "      <td>Morto</td>\n",
       "      <td>12</td>\n",
       "    </tr>\n",
       "    <tr>\n",
       "      <th>19</th>\n",
       "      <td>Mulher</td>\n",
       "      <td>(10, 20]</td>\n",
       "      <td>Vivo</td>\n",
       "      <td>34</td>\n",
       "    </tr>\n",
       "    <tr>\n",
       "      <th>20</th>\n",
       "      <td>Mulher</td>\n",
       "      <td>(20, 30]</td>\n",
       "      <td>Morto</td>\n",
       "      <td>37</td>\n",
       "    </tr>\n",
       "    <tr>\n",
       "      <th>21</th>\n",
       "      <td>Mulher</td>\n",
       "      <td>(20, 30]</td>\n",
       "      <td>Vivo</td>\n",
       "      <td>88</td>\n",
       "    </tr>\n",
       "    <tr>\n",
       "      <th>22</th>\n",
       "      <td>Mulher</td>\n",
       "      <td>(30, 40]</td>\n",
       "      <td>Morto</td>\n",
       "      <td>9</td>\n",
       "    </tr>\n",
       "    <tr>\n",
       "      <th>23</th>\n",
       "      <td>Mulher</td>\n",
       "      <td>(30, 40]</td>\n",
       "      <td>Vivo</td>\n",
       "      <td>55</td>\n",
       "    </tr>\n",
       "    <tr>\n",
       "      <th>24</th>\n",
       "      <td>Mulher</td>\n",
       "      <td>(40, 50]</td>\n",
       "      <td>Morto</td>\n",
       "      <td>10</td>\n",
       "    </tr>\n",
       "    <tr>\n",
       "      <th>25</th>\n",
       "      <td>Mulher</td>\n",
       "      <td>(40, 50]</td>\n",
       "      <td>Vivo</td>\n",
       "      <td>21</td>\n",
       "    </tr>\n",
       "    <tr>\n",
       "      <th>26</th>\n",
       "      <td>Mulher</td>\n",
       "      <td>(50, 60]</td>\n",
       "      <td>Morto</td>\n",
       "      <td>1</td>\n",
       "    </tr>\n",
       "    <tr>\n",
       "      <th>27</th>\n",
       "      <td>Mulher</td>\n",
       "      <td>(50, 60]</td>\n",
       "      <td>Vivo</td>\n",
       "      <td>13</td>\n",
       "    </tr>\n",
       "    <tr>\n",
       "      <th>28</th>\n",
       "      <td>Mulher</td>\n",
       "      <td>(60, 70]</td>\n",
       "      <td>Vivo</td>\n",
       "      <td>3</td>\n",
       "    </tr>\n",
       "  </tbody>\n",
       "</table>\n",
       "</div>"
      ],
      "text/plain": [
       "       Sex Grupos_idade Survived_lbl  Total\n",
       "0    Homem      (0, 10]        Morto     14\n",
       "1    Homem      (0, 10]         Vivo     19\n",
       "2    Homem     (10, 20]        Morto     59\n",
       "3    Homem     (10, 20]         Vivo     10\n",
       "4    Homem     (20, 30]        Morto    211\n",
       "5    Homem     (20, 30]         Vivo     32\n",
       "6    Homem     (30, 40]        Morto     84\n",
       "7    Homem     (30, 40]         Vivo     25\n",
       "8    Homem     (40, 50]        Morto     59\n",
       "9    Homem     (40, 50]         Vivo     17\n",
       "10   Homem     (50, 60]        Morto     24\n",
       "11   Homem     (50, 60]         Vivo      4\n",
       "12   Homem     (60, 70]        Morto     13\n",
       "13   Homem     (60, 70]         Vivo      1\n",
       "14   Homem     (70, 80]        Morto      4\n",
       "15   Homem     (70, 80]         Vivo      1\n",
       "16  Mulher      (0, 10]        Morto     12\n",
       "17  Mulher      (0, 10]         Vivo     19\n",
       "18  Mulher     (10, 20]        Morto     12\n",
       "19  Mulher     (10, 20]         Vivo     34\n",
       "20  Mulher     (20, 30]        Morto     37\n",
       "21  Mulher     (20, 30]         Vivo     88\n",
       "22  Mulher     (30, 40]        Morto      9\n",
       "23  Mulher     (30, 40]         Vivo     55\n",
       "24  Mulher     (40, 50]        Morto     10\n",
       "25  Mulher     (40, 50]         Vivo     21\n",
       "26  Mulher     (50, 60]        Morto      1\n",
       "27  Mulher     (50, 60]         Vivo     13\n",
       "28  Mulher     (60, 70]         Vivo      3"
      ]
     },
     "execution_count": 84,
     "metadata": {},
     "output_type": "execute_result"
    }
   ],
   "source": [
    "# Contando o total de vivos e mortos por grupos de idade e gênero\n",
    "sobreviventes_por_genero_e_grupo_idade = titanic_limpo.groupby(['Sex', 'Grupos_idade', 'Survived_lbl']).size().reset_index()\n",
    "sobreviventes_por_genero_e_grupo_idade.columns = ['Sex', 'Grupos_idade', 'Survived_lbl', 'Total']\n",
    "sobreviventes_por_genero_e_grupo_idade"
   ]
  },
  {
   "cell_type": "code",
   "execution_count": 85,
   "metadata": {
    "collapsed": false
   },
   "outputs": [
    {
     "data": {
      "text/plain": [
       "<seaborn.axisgrid.FacetGrid at 0x1290b8410>"
      ]
     },
     "execution_count": 85,
     "metadata": {},
     "output_type": "execute_result"
    },
    {
     "data": {
      "image/png": "[encoded data removed]",
      "text/plain": [
       "<matplotlib.figure.Figure at 0x128fb3190>"
      ]
     },
     "metadata": {},
     "output_type": "display_data"
    }
   ],
   "source": [
    "barras_idades_genero = sns.factorplot(x=\"Grupos_idade\", y=\"Total\", hue=\"Survived_lbl\", col='Sex', kind='bar',\n",
    "            data=sobreviventes_por_genero_e_grupo_idade, size=6)\n",
    "\n",
    "(barras_idades_genero.set_axis_labels(\"\", \"Quantidade de Passageiros\")\n",
    "    .set_titles(\"{col_name}\"))\n"
   ]
  },
  {
   "cell_type": "markdown",
   "metadata": {},
   "source": [
    "#### **Respondendo a pergunta, é bem evidente que o gênero tem alguma relação com a sobrevivência do passageiro. Com o exposto acima, percebe-se que homens morreram, proporcionalmente, muito mais do que as mulheres. Tal constatação se mantem mesmo entre todos os grupos de idades usados anteriormente. Mulheres, de todos os grupos de idade, sobreviveram mais do que morreram. Já os homens, morreram mais do que sobreviveram em todos os grupos de idades, exceto no grupo das crianças entre 0 e 10 anos, que sobreviveram mais do que morreram. Vale notar que a resposta da análise quanto a idade parece ficar mais evidente quando detalhada por gênero: homens entre 20 e 30 anos foram os que mais morreram** \n",
    "\n",
    "Extrapolando os dados, pode ser que os homens, principalmente entre 20 e 30 anos, tenham se exposto mais a riscos para salvar as mulheres, aumentando a chance de morte durante a tragédia."
   ]
  },
  {
   "cell_type": "markdown",
   "metadata": {},
   "source": [
    "### 3 - Será que passageiros acompanhados de seus familiares apresentam taxa de sobrevivência diferente dos passageiros sozinhos?"
   ]
  },
  {
   "cell_type": "markdown",
   "metadata": {},
   "source": [
    "Para simplificar um pouco a análise necessária para responder essa pergunta, iremos considerar as quantidades referentes a família como um todo, ou seja, consideraremos conjuntamente as duas variáveis apresentadas na amostra. Portanto, criaremos uma nova variável para o total de familiares: SibSp + Parch."
   ]
  },
  {
   "cell_type": "code",
   "execution_count": 86,
   "metadata": {
    "collapsed": false
   },
   "outputs": [
    {
     "data": {
      "text/html": [
       "<div>\n",
       "<table border=\"1\" class=\"dataframe\">\n",
       "  <thead>\n",
       "    <tr style=\"text-align: right;\">\n",
       "      <th></th>\n",
       "      <th>Pclass</th>\n",
       "      <th>Sex</th>\n",
       "      <th>Survived_lbl</th>\n",
       "      <th>Grupos_idade</th>\n",
       "      <th>Familia</th>\n",
       "    </tr>\n",
       "  </thead>\n",
       "  <tbody>\n",
       "    <tr>\n",
       "      <th>0</th>\n",
       "      <td>3</td>\n",
       "      <td>Homem</td>\n",
       "      <td>Morto</td>\n",
       "      <td>(20, 30]</td>\n",
       "      <td>1</td>\n",
       "    </tr>\n",
       "    <tr>\n",
       "      <th>1</th>\n",
       "      <td>1</td>\n",
       "      <td>Mulher</td>\n",
       "      <td>Vivo</td>\n",
       "      <td>(30, 40]</td>\n",
       "      <td>1</td>\n",
       "    </tr>\n",
       "    <tr>\n",
       "      <th>2</th>\n",
       "      <td>3</td>\n",
       "      <td>Mulher</td>\n",
       "      <td>Vivo</td>\n",
       "      <td>(20, 30]</td>\n",
       "      <td>0</td>\n",
       "    </tr>\n",
       "    <tr>\n",
       "      <th>3</th>\n",
       "      <td>1</td>\n",
       "      <td>Mulher</td>\n",
       "      <td>Vivo</td>\n",
       "      <td>(30, 40]</td>\n",
       "      <td>1</td>\n",
       "    </tr>\n",
       "    <tr>\n",
       "      <th>4</th>\n",
       "      <td>3</td>\n",
       "      <td>Homem</td>\n",
       "      <td>Morto</td>\n",
       "      <td>(30, 40]</td>\n",
       "      <td>0</td>\n",
       "    </tr>\n",
       "  </tbody>\n",
       "</table>\n",
       "</div>"
      ],
      "text/plain": [
       "   Pclass     Sex Survived_lbl Grupos_idade  Familia\n",
       "0       3   Homem        Morto     (20, 30]        1\n",
       "1       1  Mulher         Vivo     (30, 40]        1\n",
       "2       3  Mulher         Vivo     (20, 30]        0\n",
       "3       1  Mulher         Vivo     (30, 40]        1\n",
       "4       3   Homem        Morto     (30, 40]        0"
      ]
     },
     "execution_count": 86,
     "metadata": {},
     "output_type": "execute_result"
    }
   ],
   "source": [
    "titanic_limpo['Familia'] = titanic_limpo['SibSp'] + titanic_limpo['Parch'] \n",
    "titanic_limpo.drop(['SibSp', 'Parch'], axis=1, inplace=True)\n",
    "titanic_limpo.head()"
   ]
  },
  {
   "cell_type": "code",
   "execution_count": 87,
   "metadata": {
    "collapsed": false
   },
   "outputs": [
    {
     "data": {
      "text/html": [
       "<div>\n",
       "<table border=\"1\" class=\"dataframe\">\n",
       "  <thead>\n",
       "    <tr style=\"text-align: right;\">\n",
       "      <th></th>\n",
       "      <th>Pclass</th>\n",
       "      <th>Sex</th>\n",
       "      <th>Survived_lbl</th>\n",
       "      <th>Grupos_idade</th>\n",
       "      <th>Familia</th>\n",
       "    </tr>\n",
       "  </thead>\n",
       "  <tbody>\n",
       "    <tr>\n",
       "      <th>886</th>\n",
       "      <td>2</td>\n",
       "      <td>Homem</td>\n",
       "      <td>Morto</td>\n",
       "      <td>(20, 30]</td>\n",
       "      <td>0</td>\n",
       "    </tr>\n",
       "    <tr>\n",
       "      <th>887</th>\n",
       "      <td>1</td>\n",
       "      <td>Mulher</td>\n",
       "      <td>Vivo</td>\n",
       "      <td>(10, 20]</td>\n",
       "      <td>0</td>\n",
       "    </tr>\n",
       "    <tr>\n",
       "      <th>888</th>\n",
       "      <td>3</td>\n",
       "      <td>Mulher</td>\n",
       "      <td>Morto</td>\n",
       "      <td>(20, 30]</td>\n",
       "      <td>3</td>\n",
       "    </tr>\n",
       "    <tr>\n",
       "      <th>889</th>\n",
       "      <td>1</td>\n",
       "      <td>Homem</td>\n",
       "      <td>Vivo</td>\n",
       "      <td>(20, 30]</td>\n",
       "      <td>0</td>\n",
       "    </tr>\n",
       "    <tr>\n",
       "      <th>890</th>\n",
       "      <td>3</td>\n",
       "      <td>Homem</td>\n",
       "      <td>Morto</td>\n",
       "      <td>(30, 40]</td>\n",
       "      <td>0</td>\n",
       "    </tr>\n",
       "  </tbody>\n",
       "</table>\n",
       "</div>"
      ],
      "text/plain": [
       "     Pclass     Sex Survived_lbl Grupos_idade  Familia\n",
       "886       2   Homem        Morto     (20, 30]        0\n",
       "887       1  Mulher         Vivo     (10, 20]        0\n",
       "888       3  Mulher        Morto     (20, 30]        3\n",
       "889       1   Homem         Vivo     (20, 30]        0\n",
       "890       3   Homem        Morto     (30, 40]        0"
      ]
     },
     "execution_count": 87,
     "metadata": {},
     "output_type": "execute_result"
    }
   ],
   "source": [
    "titanic_limpo.tail()"
   ]
  },
  {
   "cell_type": "code",
   "execution_count": 88,
   "metadata": {
    "collapsed": false
   },
   "outputs": [
    {
     "data": {
      "text/plain": [
       "count    891.000000\n",
       "mean       0.904602\n",
       "std        1.613459\n",
       "min        0.000000\n",
       "25%        0.000000\n",
       "50%        0.000000\n",
       "75%        1.000000\n",
       "max       10.000000\n",
       "Name: Familia, dtype: float64"
      ]
     },
     "execution_count": 88,
     "metadata": {},
     "output_type": "execute_result"
    }
   ],
   "source": [
    "titanic_limpo['Familia'].describe()"
   ]
  },
  {
   "cell_type": "code",
   "execution_count": 90,
   "metadata": {
    "collapsed": false
   },
   "outputs": [
    {
     "data": {
      "text/plain": [
       "<matplotlib.text.Text at 0x12831b850>"
      ]
     },
     "execution_count": 90,
     "metadata": {},
     "output_type": "execute_result"
    },
    {
     "data": {
      "image/png": "[encoded data removed]",
      "text/plain": [
       "<matplotlib.figure.Figure at 0x1285ba710>"
      ]
     },
     "metadata": {},
     "output_type": "display_data"
    }
   ],
   "source": [
    "histogramas = sns.FacetGrid(titanic_limpo, size=6, aspect=2)\n",
    "histogramas.map(sns.distplot,'Familia', kde=False, bins=5)\n",
    "\n",
    "plt.title('Histograma por quantidade de familiares')"
   ]
  },
  {
   "cell_type": "markdown",
   "metadata": {},
   "source": [
    "Percebe-se claramente uma grande concentração de passageiros entre nenhum e dois membros da família"
   ]
  },
  {
   "cell_type": "code",
   "execution_count": 92,
   "metadata": {
    "collapsed": false,
    "scrolled": true
   },
   "outputs": [
    {
     "data": {
      "text/plain": [
       "<matplotlib.text.Text at 0x129cbc990>"
      ]
     },
     "execution_count": 92,
     "metadata": {},
     "output_type": "execute_result"
    },
    {
     "data": {
      "image/png": "[encoded data removed]",
      "text/plain": [
       "<matplotlib.figure.Figure at 0x12874f550>"
      ]
     },
     "metadata": {},
     "output_type": "display_data"
    }
   ],
   "source": [
    "histogramas = sns.FacetGrid(titanic_limpo, hue='Survived_lbl', size=6, aspect=2)\n",
    "histogramas.map(sns.distplot, 'Familia', kde=False, bins=5)\n",
    "histogramas.add_legend()\n",
    "\n",
    "plt.title('Histograma por quantidade de familiares para vivos e mortos')"
   ]
  },
  {
   "cell_type": "markdown",
   "metadata": {},
   "source": [
    "A distribuição dos passageiros por membros de família aparentemente não muda muito entre vivos e mortos."
   ]
  },
  {
   "cell_type": "code",
   "execution_count": 93,
   "metadata": {
    "collapsed": false
   },
   "outputs": [
    {
     "data": {
      "text/html": [
       "<div>\n",
       "<table border=\"1\" class=\"dataframe\">\n",
       "  <thead>\n",
       "    <tr style=\"text-align: right;\">\n",
       "      <th></th>\n",
       "      <th>mean</th>\n",
       "      <th>count</th>\n",
       "    </tr>\n",
       "    <tr>\n",
       "      <th>Survived_lbl</th>\n",
       "      <th></th>\n",
       "      <th></th>\n",
       "    </tr>\n",
       "  </thead>\n",
       "  <tbody>\n",
       "    <tr>\n",
       "      <th>Morto</th>\n",
       "      <td>0.883424</td>\n",
       "      <td>549</td>\n",
       "    </tr>\n",
       "    <tr>\n",
       "      <th>Vivo</th>\n",
       "      <td>0.938596</td>\n",
       "      <td>342</td>\n",
       "    </tr>\n",
       "  </tbody>\n",
       "</table>\n",
       "</div>"
      ],
      "text/plain": [
       "                  mean  count\n",
       "Survived_lbl                 \n",
       "Morto         0.883424    549\n",
       "Vivo          0.938596    342"
      ]
     },
     "execution_count": 93,
     "metadata": {},
     "output_type": "execute_result"
    }
   ],
   "source": [
    "titanic_limpo.groupby(['Survived_lbl'])['Familia'].agg(['mean', 'count'])"
   ]
  },
  {
   "cell_type": "code",
   "execution_count": 94,
   "metadata": {
    "collapsed": false
   },
   "outputs": [
    {
     "data": {
      "text/plain": [
       "<matplotlib.text.Text at 0x129fba910>"
      ]
     },
     "execution_count": 94,
     "metadata": {},
     "output_type": "execute_result"
    },
    {
     "data": {
      "image/png": "[encoded data removed]",
      "text/plain": [
       "<matplotlib.figure.Figure at 0x126066590>"
      ]
     },
     "metadata": {},
     "output_type": "display_data"
    }
   ],
   "source": [
    "# Quanto à idade por sobrevivência\n",
    "sns.boxplot(x = \"Survived_lbl\", y = \"Familia\", data = titanic_limpo)\n",
    "\n",
    "plt.xlabel('')\n",
    "plt.ylabel('Familiares')\n",
    "plt.title('Boxplot por idade de vivos e mortos')"
   ]
  },
  {
   "cell_type": "markdown",
   "metadata": {},
   "source": [
    "As médias de familiares entre vivos e mortos são muito parecidas e muito próximas de zero, sendo difícil perceber qualquer relação entre entre o número de familiares e a sobrevivência como um todos, porém, vale notar que existem muitos passageiros sem nenhum tipo de familiares a bordo (zero). Para tentar tirar proveito dessa informação, vamos trabalhar com uma variável binária: tem familiar abordo e não tem familiar a bordo."
   ]
  },
  {
   "cell_type": "code",
   "execution_count": 95,
   "metadata": {
    "collapsed": false
   },
   "outputs": [
    {
     "data": {
      "text/html": [
       "<div>\n",
       "<table border=\"1\" class=\"dataframe\">\n",
       "  <thead>\n",
       "    <tr style=\"text-align: right;\">\n",
       "      <th></th>\n",
       "      <th>Pclass</th>\n",
       "      <th>Sex</th>\n",
       "      <th>Survived_lbl</th>\n",
       "      <th>Grupos_idade</th>\n",
       "      <th>Familia_lbl</th>\n",
       "    </tr>\n",
       "  </thead>\n",
       "  <tbody>\n",
       "    <tr>\n",
       "      <th>0</th>\n",
       "      <td>3</td>\n",
       "      <td>Homem</td>\n",
       "      <td>Morto</td>\n",
       "      <td>(20, 30]</td>\n",
       "      <td>Com familiares</td>\n",
       "    </tr>\n",
       "    <tr>\n",
       "      <th>1</th>\n",
       "      <td>1</td>\n",
       "      <td>Mulher</td>\n",
       "      <td>Vivo</td>\n",
       "      <td>(30, 40]</td>\n",
       "      <td>Com familiares</td>\n",
       "    </tr>\n",
       "    <tr>\n",
       "      <th>2</th>\n",
       "      <td>3</td>\n",
       "      <td>Mulher</td>\n",
       "      <td>Vivo</td>\n",
       "      <td>(20, 30]</td>\n",
       "      <td>Sozinho</td>\n",
       "    </tr>\n",
       "    <tr>\n",
       "      <th>3</th>\n",
       "      <td>1</td>\n",
       "      <td>Mulher</td>\n",
       "      <td>Vivo</td>\n",
       "      <td>(30, 40]</td>\n",
       "      <td>Com familiares</td>\n",
       "    </tr>\n",
       "    <tr>\n",
       "      <th>4</th>\n",
       "      <td>3</td>\n",
       "      <td>Homem</td>\n",
       "      <td>Morto</td>\n",
       "      <td>(30, 40]</td>\n",
       "      <td>Sozinho</td>\n",
       "    </tr>\n",
       "  </tbody>\n",
       "</table>\n",
       "</div>"
      ],
      "text/plain": [
       "   Pclass     Sex Survived_lbl Grupos_idade     Familia_lbl\n",
       "0       3   Homem        Morto     (20, 30]  Com familiares\n",
       "1       1  Mulher         Vivo     (30, 40]  Com familiares\n",
       "2       3  Mulher         Vivo     (20, 30]         Sozinho\n",
       "3       1  Mulher         Vivo     (30, 40]  Com familiares\n",
       "4       3   Homem        Morto     (30, 40]         Sozinho"
      ]
     },
     "execution_count": 95,
     "metadata": {},
     "output_type": "execute_result"
    }
   ],
   "source": [
    "# Criando label para indicar se o passageiro tem familiares ou se está sozinho\n",
    "titanic_limpo['Familia_lbl'] = 0\n",
    "titanic_limpo.loc[titanic_limpo.Familia > 0, ['Familia_lbl']] = 'Com familiares'\n",
    "titanic_limpo.loc[titanic_limpo.Familia == 0, ['Familia_lbl']] = 'Sozinho'\n",
    "titanic_limpo.drop(['Familia'], axis=1, inplace=True)\n",
    "\n",
    "titanic_limpo.head()"
   ]
  },
  {
   "cell_type": "code",
   "execution_count": 99,
   "metadata": {
    "collapsed": false
   },
   "outputs": [
    {
     "data": {
      "text/plain": [
       "<matplotlib.text.Text at 0x12a936990>"
      ]
     },
     "execution_count": 99,
     "metadata": {},
     "output_type": "execute_result"
    },
    {
     "data": {
      "image/png": "[encoded data removed]",
      "text/plain": [
       "<matplotlib.figure.Figure at 0x12a4f6090>"
      ]
     },
     "metadata": {},
     "output_type": "display_data"
    }
   ],
   "source": [
    "# Verificando as proporções entre passageiros com familiares e sozinhos\n",
    "sns.factorplot('Familia_lbl', data = titanic_limpo, kind = 'count', size=6)\n",
    "\n",
    "plt.xlabel('')\n",
    "plt.ylabel('Quantidade de passageiros')\n",
    "plt.title('Total de passageiros por genero')"
   ]
  },
  {
   "cell_type": "markdown",
   "metadata": {},
   "source": [
    "Existem mais passageiros sozinhos. Veremos se a proporção parece a mesma quando separamos por vivos e mortos."
   ]
  },
  {
   "cell_type": "code",
   "execution_count": 100,
   "metadata": {
    "collapsed": false
   },
   "outputs": [
    {
     "data": {
      "text/plain": [
       "<matplotlib.text.Text at 0x12ab56950>"
      ]
     },
     "execution_count": 100,
     "metadata": {},
     "output_type": "execute_result"
    },
    {
     "data": {
      "image/png": "[encoded data removed]",
      "text/plain": [
       "<matplotlib.figure.Figure at 0x12a282350>"
      ]
     },
     "metadata": {},
     "output_type": "display_data"
    }
   ],
   "source": [
    "sns.factorplot('Familia_lbl', hue = 'Survived_lbl', data = titanic_limpo, kind = 'count', size=6)\n",
    "\n",
    "plt.xlabel('')\n",
    "plt.ylabel('Quantidade de passageiros')\n",
    "plt.title('Total de vivos e mortos por genero')"
   ]
  },
  {
   "cell_type": "code",
   "execution_count": 116,
   "metadata": {
    "collapsed": false
   },
   "outputs": [
    {
     "data": {
      "text/html": [
       "<div>\n",
       "<table border=\"1\" class=\"dataframe\">\n",
       "  <thead>\n",
       "    <tr style=\"text-align: right;\">\n",
       "      <th></th>\n",
       "      <th>Familia_lbl</th>\n",
       "      <th>Survived_lbl</th>\n",
       "      <th>Total</th>\n",
       "    </tr>\n",
       "  </thead>\n",
       "  <tbody>\n",
       "    <tr>\n",
       "      <th>0</th>\n",
       "      <td>Com familiares</td>\n",
       "      <td>Morto</td>\n",
       "      <td>175</td>\n",
       "    </tr>\n",
       "    <tr>\n",
       "      <th>1</th>\n",
       "      <td>Com familiares</td>\n",
       "      <td>Vivo</td>\n",
       "      <td>179</td>\n",
       "    </tr>\n",
       "    <tr>\n",
       "      <th>2</th>\n",
       "      <td>Sozinho</td>\n",
       "      <td>Morto</td>\n",
       "      <td>374</td>\n",
       "    </tr>\n",
       "    <tr>\n",
       "      <th>3</th>\n",
       "      <td>Sozinho</td>\n",
       "      <td>Vivo</td>\n",
       "      <td>163</td>\n",
       "    </tr>\n",
       "  </tbody>\n",
       "</table>\n",
       "</div>"
      ],
      "text/plain": [
       "      Familia_lbl Survived_lbl  Total\n",
       "0  Com familiares        Morto    175\n",
       "1  Com familiares         Vivo    179\n",
       "2         Sozinho        Morto    374\n",
       "3         Sozinho         Vivo    163"
      ]
     },
     "execution_count": 116,
     "metadata": {},
     "output_type": "execute_result"
    }
   ],
   "source": [
    "# Contando o total de vivos e mortos sozinhos e com familiares\n",
    "sobreviventes_por_familiares = titanic_limpo.groupby(['Familia_lbl', 'Survived_lbl']).size().reset_index()\n",
    "sobreviventes_por_familiares.columns = ['Familia_lbl', 'Survived_lbl', 'Total']\n",
    "sobreviventes_por_familiares"
   ]
  },
  {
   "cell_type": "markdown",
   "metadata": {},
   "source": [
    "Interessante notar que a quantidade de mortos e sobreviventes com familiares é muito próxima, e a quantidade de mortos sozinhos é praticamente o dobro da quantidade de sobreviventes sozinhos.\n",
    "\n",
    "Para enriquecer a análise, vamos averiguar a quantidade de vivos e mortos, por familiares e outras variáveis."
   ]
  },
  {
   "cell_type": "code",
   "execution_count": 115,
   "metadata": {
    "collapsed": false
   },
   "outputs": [
    {
     "data": {
      "text/plain": [
       "<seaborn.axisgrid.FacetGrid at 0x12d169dd0>"
      ]
     },
     "execution_count": 115,
     "metadata": {},
     "output_type": "execute_result"
    },
    {
     "data": {
      "image/png": "[encoded data removed]",
      "text/plain": [
       "<matplotlib.figure.Figure at 0x12d169410>"
      ]
     },
     "metadata": {},
     "output_type": "display_data"
    }
   ],
   "source": [
    "barras_familia_genero = sns.factorplot('Familia_lbl', hue = 'Survived_lbl', col='Sex', data = titanic_limpo, kind = 'count', size=6)\n",
    "\n",
    "\n",
    "(barras_familia_genero.set_axis_labels(\"\", \"Quantidade de Passageiros\")\n",
    "    .set_titles(\"{col_name}\"))"
   ]
  },
  {
   "cell_type": "code",
   "execution_count": 118,
   "metadata": {
    "collapsed": false
   },
   "outputs": [
    {
     "data": {
      "text/html": [
       "<div>\n",
       "<table border=\"1\" class=\"dataframe\">\n",
       "  <thead>\n",
       "    <tr style=\"text-align: right;\">\n",
       "      <th></th>\n",
       "      <th>Familia_lbl</th>\n",
       "      <th>Sex</th>\n",
       "      <th>Survived_lbl</th>\n",
       "      <th>Total</th>\n",
       "    </tr>\n",
       "  </thead>\n",
       "  <tbody>\n",
       "    <tr>\n",
       "      <th>0</th>\n",
       "      <td>Com familiares</td>\n",
       "      <td>Homem</td>\n",
       "      <td>Morto</td>\n",
       "      <td>121</td>\n",
       "    </tr>\n",
       "    <tr>\n",
       "      <th>1</th>\n",
       "      <td>Com familiares</td>\n",
       "      <td>Homem</td>\n",
       "      <td>Vivo</td>\n",
       "      <td>45</td>\n",
       "    </tr>\n",
       "    <tr>\n",
       "      <th>2</th>\n",
       "      <td>Com familiares</td>\n",
       "      <td>Mulher</td>\n",
       "      <td>Morto</td>\n",
       "      <td>54</td>\n",
       "    </tr>\n",
       "    <tr>\n",
       "      <th>3</th>\n",
       "      <td>Com familiares</td>\n",
       "      <td>Mulher</td>\n",
       "      <td>Vivo</td>\n",
       "      <td>134</td>\n",
       "    </tr>\n",
       "    <tr>\n",
       "      <th>4</th>\n",
       "      <td>Sozinho</td>\n",
       "      <td>Homem</td>\n",
       "      <td>Morto</td>\n",
       "      <td>347</td>\n",
       "    </tr>\n",
       "    <tr>\n",
       "      <th>5</th>\n",
       "      <td>Sozinho</td>\n",
       "      <td>Homem</td>\n",
       "      <td>Vivo</td>\n",
       "      <td>64</td>\n",
       "    </tr>\n",
       "    <tr>\n",
       "      <th>6</th>\n",
       "      <td>Sozinho</td>\n",
       "      <td>Mulher</td>\n",
       "      <td>Morto</td>\n",
       "      <td>27</td>\n",
       "    </tr>\n",
       "    <tr>\n",
       "      <th>7</th>\n",
       "      <td>Sozinho</td>\n",
       "      <td>Mulher</td>\n",
       "      <td>Vivo</td>\n",
       "      <td>99</td>\n",
       "    </tr>\n",
       "  </tbody>\n",
       "</table>\n",
       "</div>"
      ],
      "text/plain": [
       "      Familia_lbl     Sex Survived_lbl  Total\n",
       "0  Com familiares   Homem        Morto    121\n",
       "1  Com familiares   Homem         Vivo     45\n",
       "2  Com familiares  Mulher        Morto     54\n",
       "3  Com familiares  Mulher         Vivo    134\n",
       "4         Sozinho   Homem        Morto    347\n",
       "5         Sozinho   Homem         Vivo     64\n",
       "6         Sozinho  Mulher        Morto     27\n",
       "7         Sozinho  Mulher         Vivo     99"
      ]
     },
     "execution_count": 118,
     "metadata": {},
     "output_type": "execute_result"
    }
   ],
   "source": [
    "# Contando o total de vivos e mortos sozinhos e com familiares, por gênero\n",
    "sobreviventes_por_familiares = titanic_limpo.groupby(['Familia_lbl', 'Sex', 'Survived_lbl']).size().reset_index()\n",
    "sobreviventes_por_familiares.columns = ['Familia_lbl', 'Sex', 'Survived_lbl', 'Total']\n",
    "sobreviventes_por_familiares"
   ]
  },
  {
   "cell_type": "markdown",
   "metadata": {},
   "source": [
    "Em relação ao gênero, aparentemente homens sozinhos morreram mais, proporcionalmente falando, em relação aos demais casos.\n",
    "\n",
    "Avaliaremos agora em relação ao grupo de idades."
   ]
  },
  {
   "cell_type": "code",
   "execution_count": 103,
   "metadata": {
    "collapsed": false
   },
   "outputs": [
    {
     "data": {
      "text/plain": [
       "<seaborn.axisgrid.FacetGrid at 0x12acb5250>"
      ]
     },
     "execution_count": 103,
     "metadata": {},
     "output_type": "execute_result"
    },
    {
     "data": {
      "image/png": "[encoded data removed]",
      "text/plain": [
       "<matplotlib.figure.Figure at 0x12acb5d90>"
      ]
     },
     "metadata": {},
     "output_type": "display_data"
    }
   ],
   "source": [
    "barras_idades_genero_familia = sns.factorplot(x='Grupos_idade', hue = 'Survived_lbl', col='Familia_lbl',\n",
    "               data = titanic_limpo, kind = 'count', size=6)\n",
    "\n",
    "(barras_idades_genero_familia.set_axis_labels(\"\", \"Quantidade de Passageiros\")\n",
    "    .set_titles(\"{col_name}\"))\n"
   ]
  },
  {
   "cell_type": "markdown",
   "metadata": {},
   "source": [
    "Parece haver uma sutil melhora na relação de sobreviventes em todos os grupos de idade dentre os passageiros com familiares, há grupos inclusive com mais sobreviventes do que mortos."
   ]
  },
  {
   "cell_type": "markdown",
   "metadata": {},
   "source": [
    "#### **Respondendo a pergunta, apenas com análises superficiais não foi possível observar relações claras entre o número de familiares e o fato de sobreviver ou não. Porém, ao simplificarmos a questão para tratar passageiros com algum familiar e passageiros sozinhos (sem nenhum familiar), foi possível perceber que a quantidade de mortos e sobreviventes entre passageiros com familiares foi praticamente a mesma, já passageiros sozinhos parecem ter uma taxa de mortailidade maior. Ao detalhar os passageiros com familiares e sozinhos por gênero, foi possível notar que homens sozinhos morreram mais. Ao detalhar passageiros com familiares e sozinhos por grupos de idades, foi possível notar os que possuiam familiares e eram crianças de 0 a 10, jovens de 10 a 20 e adultos de 30 a 40 e senhores(as) de 50 a 60 anos apresentaram taxa de sobrevivência positiva e melhor do que quem estava sozinho e pertencia aos mesmos grupos de idade.**"
   ]
  },
  {
   "cell_type": "markdown",
   "metadata": {},
   "source": [
    "### 4 - A classe social do passageiro aparenta ter alguma influência na taxa de sobrevivência?"
   ]
  },
  {
   "cell_type": "markdown",
   "metadata": {},
   "source": [
    "Conforme descrito nas informações dos dados originais, a variável Pclass é uma proxy para a situação socio econômica do passageiro. Sendo assim, vamos renomear os valores de forma mais apropriada."
   ]
  },
  {
   "cell_type": "code",
   "execution_count": 104,
   "metadata": {
    "collapsed": false
   },
   "outputs": [
    {
     "data": {
      "text/html": [
       "<div>\n",
       "<table border=\"1\" class=\"dataframe\">\n",
       "  <thead>\n",
       "    <tr style=\"text-align: right;\">\n",
       "      <th></th>\n",
       "      <th>Sex</th>\n",
       "      <th>Survived_lbl</th>\n",
       "      <th>Grupos_idade</th>\n",
       "      <th>Familia_lbl</th>\n",
       "      <th>Classe_lbl</th>\n",
       "    </tr>\n",
       "  </thead>\n",
       "  <tbody>\n",
       "    <tr>\n",
       "      <th>0</th>\n",
       "      <td>Homem</td>\n",
       "      <td>Morto</td>\n",
       "      <td>(20, 30]</td>\n",
       "      <td>Com familiares</td>\n",
       "      <td>Baixa</td>\n",
       "    </tr>\n",
       "    <tr>\n",
       "      <th>1</th>\n",
       "      <td>Mulher</td>\n",
       "      <td>Vivo</td>\n",
       "      <td>(30, 40]</td>\n",
       "      <td>Com familiares</td>\n",
       "      <td>Alta</td>\n",
       "    </tr>\n",
       "    <tr>\n",
       "      <th>2</th>\n",
       "      <td>Mulher</td>\n",
       "      <td>Vivo</td>\n",
       "      <td>(20, 30]</td>\n",
       "      <td>Sozinho</td>\n",
       "      <td>Baixa</td>\n",
       "    </tr>\n",
       "    <tr>\n",
       "      <th>3</th>\n",
       "      <td>Mulher</td>\n",
       "      <td>Vivo</td>\n",
       "      <td>(30, 40]</td>\n",
       "      <td>Com familiares</td>\n",
       "      <td>Alta</td>\n",
       "    </tr>\n",
       "    <tr>\n",
       "      <th>4</th>\n",
       "      <td>Homem</td>\n",
       "      <td>Morto</td>\n",
       "      <td>(30, 40]</td>\n",
       "      <td>Sozinho</td>\n",
       "      <td>Baixa</td>\n",
       "    </tr>\n",
       "  </tbody>\n",
       "</table>\n",
       "</div>"
      ],
      "text/plain": [
       "      Sex Survived_lbl Grupos_idade     Familia_lbl Classe_lbl\n",
       "0   Homem        Morto     (20, 30]  Com familiares      Baixa\n",
       "1  Mulher         Vivo     (30, 40]  Com familiares       Alta\n",
       "2  Mulher         Vivo     (20, 30]         Sozinho      Baixa\n",
       "3  Mulher         Vivo     (30, 40]  Com familiares       Alta\n",
       "4   Homem        Morto     (30, 40]         Sozinho      Baixa"
      ]
     },
     "execution_count": 104,
     "metadata": {},
     "output_type": "execute_result"
    }
   ],
   "source": [
    "# Criando label para informar melhor a classe como classe social do passageiro\n",
    "titanic_limpo['Classe_lbl'] = 0\n",
    "titanic_limpo.loc[titanic_limpo.Pclass == 1, ['Classe_lbl']] = 'Alta'\n",
    "titanic_limpo.loc[titanic_limpo.Pclass == 2, ['Classe_lbl']] = 'Media'\n",
    "titanic_limpo.loc[titanic_limpo.Pclass == 3, ['Classe_lbl']] = 'Baixa'\n",
    "titanic_limpo.drop(['Pclass'], axis=1, inplace=True)\n",
    "\n",
    "titanic_limpo.head()"
   ]
  },
  {
   "cell_type": "code",
   "execution_count": 119,
   "metadata": {
    "collapsed": false
   },
   "outputs": [
    {
     "data": {
      "text/plain": [
       "<matplotlib.text.Text at 0x12e100fd0>"
      ]
     },
     "execution_count": 119,
     "metadata": {},
     "output_type": "execute_result"
    },
    {
     "data": {
      "image/png": "[encoded data removed]",
      "text/plain": [
       "<matplotlib.figure.Figure at 0x12d1732d0>"
      ]
     },
     "metadata": {},
     "output_type": "display_data"
    }
   ],
   "source": [
    "# Verificando as proporções entre quantidades passageiros nas diferentes classes\n",
    "sns.factorplot('Classe_lbl', data = titanic_limpo, kind = 'count', size=6,\n",
    "              order=['Alta', 'Media', 'Baixa'])\n",
    "\n",
    "plt.xlabel('')\n",
    "plt.ylabel('Quantidade de passageiros')\n",
    "plt.title('Total de passageiros por genero')"
   ]
  },
  {
   "cell_type": "code",
   "execution_count": 120,
   "metadata": {
    "collapsed": false
   },
   "outputs": [
    {
     "ename": "SyntaxError",
     "evalue": "invalid syntax (<ipython-input-120-eb7955ca21ca>, line 1)",
     "output_type": "error",
     "traceback": [
      "\u001b[0;36m  File \u001b[0;32m\"<ipython-input-120-eb7955ca21ca>\"\u001b[0;36m, line \u001b[0;32m1\u001b[0m\n\u001b[0;31m    Nitidamente existem muito mais passageiros de classe baixa.\u001b[0m\n\u001b[0m                      ^\u001b[0m\n\u001b[0;31mSyntaxError\u001b[0m\u001b[0;31m:\u001b[0m invalid syntax\n"
     ]
    }
   ],
   "source": [
    "Nitidamente existem muito mais passageiros de classe baixa."
   ]
  },
  {
   "cell_type": "code",
   "execution_count": 107,
   "metadata": {
    "collapsed": false
   },
   "outputs": [
    {
     "data": {
      "text/plain": [
       "<matplotlib.text.Text at 0x12bb047d0>"
      ]
     },
     "execution_count": 107,
     "metadata": {},
     "output_type": "execute_result"
    },
    {
     "data": {
      "image/png": "[encoded data removed]",
      "text/plain": [
       "<matplotlib.figure.Figure at 0x12b8cd290>"
      ]
     },
     "metadata": {},
     "output_type": "display_data"
    }
   ],
   "source": [
    "# Verificando as proporções entre homens e mulheres\n",
    "sns.factorplot('Classe_lbl', hue='Survived_lbl', data = titanic_limpo, kind = 'count', size=6,\n",
    "              order=['Alta', 'Media', 'Baixa'])\n",
    "\n",
    "plt.xlabel('')\n",
    "plt.ylabel('Quantidade de passageiros')\n",
    "plt.title('Total de passageiros por genero')"
   ]
  },
  {
   "cell_type": "markdown",
   "metadata": {},
   "source": [
    "Fica claro que, proporcionalmente, morreram muito mais passageiros da classe baixa. Nota-se também que, na classe alta, mais passageiros sobreviveram. Já na classe média, a relação de vivos e mortos parece equilibrada."
   ]
  },
  {
   "cell_type": "code",
   "execution_count": 108,
   "metadata": {
    "collapsed": false
   },
   "outputs": [
    {
     "data": {
      "text/html": [
       "<div>\n",
       "<table border=\"1\" class=\"dataframe\">\n",
       "  <thead>\n",
       "    <tr style=\"text-align: right;\">\n",
       "      <th></th>\n",
       "      <th>Classe_lbl</th>\n",
       "      <th>Survived_lbl</th>\n",
       "      <th>Total</th>\n",
       "    </tr>\n",
       "  </thead>\n",
       "  <tbody>\n",
       "    <tr>\n",
       "      <th>0</th>\n",
       "      <td>Alta</td>\n",
       "      <td>Morto</td>\n",
       "      <td>80</td>\n",
       "    </tr>\n",
       "    <tr>\n",
       "      <th>1</th>\n",
       "      <td>Alta</td>\n",
       "      <td>Vivo</td>\n",
       "      <td>136</td>\n",
       "    </tr>\n",
       "    <tr>\n",
       "      <th>2</th>\n",
       "      <td>Baixa</td>\n",
       "      <td>Morto</td>\n",
       "      <td>372</td>\n",
       "    </tr>\n",
       "    <tr>\n",
       "      <th>3</th>\n",
       "      <td>Baixa</td>\n",
       "      <td>Vivo</td>\n",
       "      <td>119</td>\n",
       "    </tr>\n",
       "    <tr>\n",
       "      <th>4</th>\n",
       "      <td>Media</td>\n",
       "      <td>Morto</td>\n",
       "      <td>97</td>\n",
       "    </tr>\n",
       "    <tr>\n",
       "      <th>5</th>\n",
       "      <td>Media</td>\n",
       "      <td>Vivo</td>\n",
       "      <td>87</td>\n",
       "    </tr>\n",
       "  </tbody>\n",
       "</table>\n",
       "</div>"
      ],
      "text/plain": [
       "  Classe_lbl Survived_lbl  Total\n",
       "0       Alta        Morto     80\n",
       "1       Alta         Vivo    136\n",
       "2      Baixa        Morto    372\n",
       "3      Baixa         Vivo    119\n",
       "4      Media        Morto     97\n",
       "5      Media         Vivo     87"
      ]
     },
     "execution_count": 108,
     "metadata": {},
     "output_type": "execute_result"
    }
   ],
   "source": [
    "# Contando o total de vivos e mortos por classe\n",
    "sobreviventes_por_familiares = titanic_limpo.groupby(['Classe_lbl', 'Survived_lbl']).size().reset_index()\n",
    "sobreviventes_por_familiares.columns = ['Classe_lbl', 'Survived_lbl', 'Total']\n",
    "sobreviventes_por_familiares"
   ]
  },
  {
   "cell_type": "markdown",
   "metadata": {},
   "source": [
    "Vamos enriquecer a análise de sobrevivente classes sociais adicionando outras variáveis. Começaremos pelos grupos de idades."
   ]
  },
  {
   "cell_type": "code",
   "execution_count": 112,
   "metadata": {
    "collapsed": false
   },
   "outputs": [
    {
     "data": {
      "text/plain": [
       "<seaborn.axisgrid.FacetGrid at 0x12c435110>"
      ]
     },
     "execution_count": 112,
     "metadata": {},
     "output_type": "execute_result"
    },
    {
     "data": {
      "image/png": "[encoded data removed]",
      "text/plain": [
       "<matplotlib.figure.Figure at 0x12be86d50>"
      ]
     },
     "metadata": {},
     "output_type": "display_data"
    }
   ],
   "source": [
    "barras_idades_classe = sns.factorplot(x='Grupos_idade', hue = 'Survived_lbl', col='Classe_lbl',\n",
    "               data = titanic_limpo, kind = 'count', size=6)\n",
    "\n",
    "(barras_idades_classe.set_axis_labels(\"\", \"Quantidade de Passageiros\")\n",
    "    .set_titles(\"{col_name}\"))"
   ]
  },
  {
   "cell_type": "markdown",
   "metadata": {},
   "source": [
    "Curiosamente a classe baixa foi a única que apresentou uma relação negativa de sobreviventes no grupo das crianças (0 a 10 anos), bem como proporção de mortos muito maior em todos os grupos de idade. Já a classe alta parece ter tido muito mais sucesso em sobreviver, exceto no grupo dos 40 a 50 anos e 60 a 70 anos, que apresentou mais mortos do que vivos."
   ]
  },
  {
   "cell_type": "code",
   "execution_count": 114,
   "metadata": {
    "collapsed": false
   },
   "outputs": [
    {
     "data": {
      "text/plain": [
       "<seaborn.axisgrid.FacetGrid at 0x12cd3e290>"
      ]
     },
     "execution_count": 114,
     "metadata": {},
     "output_type": "execute_result"
    },
    {
     "data": {
      "image/png": "[encoded data removed]",
      "text/plain": [
       "<matplotlib.figure.Figure at 0x12cd3eb10>"
      ]
     },
     "metadata": {},
     "output_type": "display_data"
    }
   ],
   "source": [
    "barras_genero_classe = sns.factorplot(x='Sex', hue = 'Survived_lbl', col='Classe_lbl',\n",
    "               data = titanic_limpo, kind = 'count', size=6)\n",
    "\n",
    "(barras_genero_classe.set_axis_labels(\"\", \"Quantidade de Passageiros\")\n",
    "    .set_titles(\"{col_name}\"))"
   ]
  },
  {
   "cell_type": "markdown",
   "metadata": {},
   "source": [
    "Analisando a classe social por gênero, percebe-se que, a maioria das mulheres de classe alta e classe média sobreviveram, sendo que as mulheres de classe baixa não tiveram tanta sorte. Já os homens de classe baixa morreram proporcionalmente mais do que os homens das demais classes."
   ]
  },
  {
   "cell_type": "code",
   "execution_count": 122,
   "metadata": {
    "collapsed": false
   },
   "outputs": [
    {
     "data": {
      "text/plain": [
       "<seaborn.axisgrid.FacetGrid at 0x12df5b990>"
      ]
     },
     "execution_count": 122,
     "metadata": {},
     "output_type": "execute_result"
    },
    {
     "data": {
      "image/png": "[encoded data removed]",
      "text/plain": [
       "<matplotlib.figure.Figure at 0x12df0cd10>"
      ]
     },
     "metadata": {},
     "output_type": "display_data"
    }
   ],
   "source": [
    "barras_genero_classe = sns.factorplot(x='Familia_lbl', hue = 'Survived_lbl', col='Classe_lbl',\n",
    "               data = titanic_limpo, kind = 'count', size=6)\n",
    "\n",
    "(barras_genero_classe.set_axis_labels(\"\", \"Quantidade de Passageiros\")\n",
    "    .set_titles(\"{col_name}\"))"
   ]
  },
  {
   "cell_type": "markdown",
   "metadata": {},
   "source": [
    "Analisando as classes sociais em relação ao passgeiro estar acompanhado ou não, percebe-se que, apenas na classe baixa a mortalidade dentre os passageiros com familiares foi maior, nas demais classes sobreviveram mais passageiros com familiares. Nota-se também que, apenas na classe alta houve mais sobreviventes sozinhos do que nas outras classes, que tiveram mais mortos do que sobreviventes sozinhos."
   ]
  },
  {
   "cell_type": "markdown",
   "metadata": {},
   "source": [
    "#### Respondendo a pergunta, parece que a classe social tem influência na taxa sobrevivência. Percebe-se que passageiros de classe Alta tiveram mais sucesso em sobreviver do que passageiros da classe baixa e média. Tal padrão se mantém mesmo detalhando com outras variáveis. Obviamente testes estatísticos seriam necessários para quantificar a influência e isolar os demais fatores. \n",
    "\n",
    "Estrapolando os dados, pode ser que quanto maior for a calsse do passageiros, ele tenham mais condição de pagar por lugares melhores, mais perto dos pontos de fuga e botes salva-vidas. A lógica inversa serve para os passageiros de classe baixa: quanto menor a classe, talvez o passageiro só tenha condição de pagar por lugares com pouco acesso a lugares mais seguros."
   ]
  },
  {
   "cell_type": "markdown",
   "metadata": {},
   "source": [
    "### Conclusão\n",
    "\n",
    "O presente trabalho precisa ser complementado com análises e cálculos estatísticos para confirmação e maior aprofundamento das respostas aos questionamentos. No entanto, o objetivo do trabalho não era exaurir todas as avaliações em sua máxima profundidade, e sim proporcional ao autor um contato maior com análise exploratória utilzando a linguagem python bem como seus principais pacotes para análise de dados.\n",
    "\n",
    "### Referências\n",
    "\n",
    "https://pt.wikipedia.org/wiki/RMS_Titanic\n",
    "https://www.kaggle.com/c/titanic/data\n",
    "http://seaborn.pydata.org/api.html\n",
    "http://pandas.pydata.org/pandas-docs/stable/\n",
    "https://jupyter.readthedocs.io/en/latest/index.html"
   ]
  }
 ],
 "metadata": {
  "kernelspec": {
   "display_name": "Python 2",
   "language": "python",
   "name": "python2"
  },
  "language_info": {
   "codemirror_mode": {
    "name": "ipython",
    "version": 2
   },
   "file_extension": ".py",
   "mimetype": "text/x-python",
   "name": "python",
   "nbconvert_exporter": "python",
   "pygments_lexer": "ipython2",
   "version": "2.7.13"
  }
 },
 "nbformat": 4,
 "nbformat_minor": 2
}
